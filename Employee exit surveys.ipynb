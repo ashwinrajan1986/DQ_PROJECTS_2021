{
 "cells": [
  {
   "cell_type": "markdown",
   "metadata": {},
   "source": [
    "In this project, we'll play the role of data analyst and pretend our stakeholders want to know the following:\n",
    "\n",
    "Are employees who only worked for the institutes for a short period of time resigning due to some kind of dissatisfaction? What about employees who have been there longer?\n",
    "Are younger employees resigning due to some kind of dissatisfaction? What about older employees?\n",
    "\n",
    "A data dictionary wasn't provided with the dataset. In a job setting, we'd make sure to meet with a manager to confirm the definitions of the data. For this project, we'll use our general knowledge to define the columns.\n",
    "\n",
    "Below is a preview of a couple columns we'll work with from the dete_survey.csv:\n",
    "\n",
    "ID: An id used to identify the participant of the survey\n",
    "SeparationType: The reason why the person's employment ended\n",
    "Cease Date: The year or month the person's employment ended\n",
    "DETE Start Date: The year the person began employment with the DETE\n",
    "Below is a preview of a couple columns we'll work with from the tafe_survey.csv:\n",
    "\n",
    "Record ID: An id used to identify the participant of the survey\n",
    "Reason for ceasing employment: The reason why the person's employment ended\n",
    "LengthofServiceOverall. Overall Length of Service at Institute (in years): The length of the person's employment (in years)\n",
    "Let's start by reading the datasets into pandas and exploring them."
   ]
  },
  {
   "cell_type": "code",
   "execution_count": 45,
   "metadata": {},
   "outputs": [
    {
     "name": "stdout",
     "output_type": "stream",
     "text": [
      "<class 'pandas.core.frame.DataFrame'>\n",
      "RangeIndex: 822 entries, 0 to 821\n",
      "Data columns (total 56 columns):\n",
      " #   Column                               Non-Null Count  Dtype \n",
      "---  ------                               --------------  ----- \n",
      " 0   ID                                   822 non-null    int64 \n",
      " 1   SeparationType                       822 non-null    object\n",
      " 2   Cease Date                           822 non-null    object\n",
      " 3   DETE Start Date                      822 non-null    object\n",
      " 4   Role Start Date                      822 non-null    object\n",
      " 5   Position                             817 non-null    object\n",
      " 6   Classification                       455 non-null    object\n",
      " 7   Region                               822 non-null    object\n",
      " 8   Business Unit                        126 non-null    object\n",
      " 9   Employment Status                    817 non-null    object\n",
      " 10  Career move to public sector         822 non-null    bool  \n",
      " 11  Career move to private sector        822 non-null    bool  \n",
      " 12  Interpersonal conflicts              822 non-null    bool  \n",
      " 13  Job dissatisfaction                  822 non-null    bool  \n",
      " 14  Dissatisfaction with the department  822 non-null    bool  \n",
      " 15  Physical work environment            822 non-null    bool  \n",
      " 16  Lack of recognition                  822 non-null    bool  \n",
      " 17  Lack of job security                 822 non-null    bool  \n",
      " 18  Work location                        822 non-null    bool  \n",
      " 19  Employment conditions                822 non-null    bool  \n",
      " 20  Maternity/family                     822 non-null    bool  \n",
      " 21  Relocation                           822 non-null    bool  \n",
      " 22  Study/Travel                         822 non-null    bool  \n",
      " 23  Ill Health                           822 non-null    bool  \n",
      " 24  Traumatic incident                   822 non-null    bool  \n",
      " 25  Work life balance                    822 non-null    bool  \n",
      " 26  Workload                             822 non-null    bool  \n",
      " 27  None of the above                    822 non-null    bool  \n",
      " 28  Professional Development             808 non-null    object\n",
      " 29  Opportunities for promotion          735 non-null    object\n",
      " 30  Staff morale                         816 non-null    object\n",
      " 31  Workplace issue                      788 non-null    object\n",
      " 32  Physical environment                 817 non-null    object\n",
      " 33  Worklife balance                     815 non-null    object\n",
      " 34  Stress and pressure support          810 non-null    object\n",
      " 35  Performance of supervisor            813 non-null    object\n",
      " 36  Peer support                         812 non-null    object\n",
      " 37  Initiative                           813 non-null    object\n",
      " 38  Skills                               811 non-null    object\n",
      " 39  Coach                                767 non-null    object\n",
      " 40  Career Aspirations                   746 non-null    object\n",
      " 41  Feedback                             792 non-null    object\n",
      " 42  Further PD                           768 non-null    object\n",
      " 43  Communication                        814 non-null    object\n",
      " 44  My say                               812 non-null    object\n",
      " 45  Information                          816 non-null    object\n",
      " 46  Kept informed                        813 non-null    object\n",
      " 47  Wellness programs                    766 non-null    object\n",
      " 48  Health & Safety                      793 non-null    object\n",
      " 49  Gender                               798 non-null    object\n",
      " 50  Age                                  811 non-null    object\n",
      " 51  Aboriginal                           16 non-null     object\n",
      " 52  Torres Strait                        3 non-null      object\n",
      " 53  South Sea                            7 non-null      object\n",
      " 54  Disability                           23 non-null     object\n",
      " 55  NESB                                 32 non-null     object\n",
      "dtypes: bool(18), int64(1), object(37)\n",
      "memory usage: 258.6+ KB\n",
      "None\n",
      "<class 'pandas.core.frame.DataFrame'>\n",
      "RangeIndex: 702 entries, 0 to 701\n",
      "Data columns (total 72 columns):\n",
      " #   Column                                                                                                                                                         Non-Null Count  Dtype  \n",
      "---  ------                                                                                                                                                         --------------  -----  \n",
      " 0   Record ID                                                                                                                                                      702 non-null    float64\n",
      " 1   Institute                                                                                                                                                      702 non-null    object \n",
      " 2   WorkArea                                                                                                                                                       702 non-null    object \n",
      " 3   CESSATION YEAR                                                                                                                                                 695 non-null    float64\n",
      " 4   Reason for ceasing employment                                                                                                                                  701 non-null    object \n",
      " 5   Contributing Factors. Career Move - Public Sector                                                                                                              437 non-null    object \n",
      " 6   Contributing Factors. Career Move - Private Sector                                                                                                             437 non-null    object \n",
      " 7   Contributing Factors. Career Move - Self-employment                                                                                                            437 non-null    object \n",
      " 8   Contributing Factors. Ill Health                                                                                                                               437 non-null    object \n",
      " 9   Contributing Factors. Maternity/Family                                                                                                                         437 non-null    object \n",
      " 10  Contributing Factors. Dissatisfaction                                                                                                                          437 non-null    object \n",
      " 11  Contributing Factors. Job Dissatisfaction                                                                                                                      437 non-null    object \n",
      " 12  Contributing Factors. Interpersonal Conflict                                                                                                                   437 non-null    object \n",
      " 13  Contributing Factors. Study                                                                                                                                    437 non-null    object \n",
      " 14  Contributing Factors. Travel                                                                                                                                   437 non-null    object \n",
      " 15  Contributing Factors. Other                                                                                                                                    437 non-null    object \n",
      " 16  Contributing Factors. NONE                                                                                                                                     437 non-null    object \n",
      " 17  Main Factor. Which of these was the main factor for leaving?                                                                                                   113 non-null    object \n",
      " 18  InstituteViews. Topic:1. I feel the senior leadership had a clear vision and direction                                                                         608 non-null    object \n",
      " 19  InstituteViews. Topic:2. I was given access to skills training to help me do my job better                                                                     613 non-null    object \n",
      " 20  InstituteViews. Topic:3. I was given adequate opportunities for personal development                                                                           610 non-null    object \n",
      " 21  InstituteViews. Topic:4. I was given adequate opportunities for promotion within %Institute]Q25LBL%                                                            608 non-null    object \n",
      " 22  InstituteViews. Topic:5. I felt the salary for the job was right for the responsibilities I had                                                                615 non-null    object \n",
      " 23  InstituteViews. Topic:6. The organisation recognised when staff did good work                                                                                  607 non-null    object \n",
      " 24  InstituteViews. Topic:7. Management was generally supportive of me                                                                                             614 non-null    object \n",
      " 25  InstituteViews. Topic:8. Management was generally supportive of my team                                                                                        608 non-null    object \n",
      " 26  InstituteViews. Topic:9. I was kept informed of the changes in the organisation which would affect me                                                          610 non-null    object \n",
      " 27  InstituteViews. Topic:10. Staff morale was positive within the Institute                                                                                       602 non-null    object \n",
      " 28  InstituteViews. Topic:11. If I had a workplace issue it was dealt with quickly                                                                                 601 non-null    object \n",
      " 29  InstituteViews. Topic:12. If I had a workplace issue it was dealt with efficiently                                                                             597 non-null    object \n",
      " 30  InstituteViews. Topic:13. If I had a workplace issue it was dealt with discreetly                                                                              601 non-null    object \n",
      " 31  WorkUnitViews. Topic:14. I was satisfied with the quality of the management and supervision within my work unit                                                609 non-null    object \n",
      " 32  WorkUnitViews. Topic:15. I worked well with my colleagues                                                                                                      605 non-null    object \n",
      " 33  WorkUnitViews. Topic:16. My job was challenging and interesting                                                                                                607 non-null    object \n",
      " 34  WorkUnitViews. Topic:17. I was encouraged to use my initiative in the course of my work                                                                        610 non-null    object \n",
      " 35  WorkUnitViews. Topic:18. I had sufficient contact with other people in my job                                                                                  613 non-null    object \n",
      " 36  WorkUnitViews. Topic:19. I was given adequate support and co-operation by my peers to enable me to do my job                                                   609 non-null    object \n",
      " 37  WorkUnitViews. Topic:20. I was able to use the full range of my skills in my job                                                                               609 non-null    object \n",
      " 38  WorkUnitViews. Topic:21. I was able to use the full range of my abilities in my job. ; Category:Level of Agreement; Question:YOUR VIEWS ABOUT YOUR WORK UNIT]  608 non-null    object \n",
      " 39  WorkUnitViews. Topic:22. I was able to use the full range of my knowledge in my job                                                                            608 non-null    object \n",
      " 40  WorkUnitViews. Topic:23. My job provided sufficient variety                                                                                                    611 non-null    object \n",
      " 41  WorkUnitViews. Topic:24. I was able to cope with the level of stress and pressure in my job                                                                    610 non-null    object \n",
      " 42  WorkUnitViews. Topic:25. My job allowed me to balance the demands of work and family to my satisfaction                                                        611 non-null    object \n",
      " 43  WorkUnitViews. Topic:26. My supervisor gave me adequate personal recognition and feedback on my performance                                                    606 non-null    object \n",
      " 44  WorkUnitViews. Topic:27. My working environment was satisfactory e.g. sufficient space, good lighting, suitable seating and working area                       610 non-null    object \n",
      " 45  WorkUnitViews. Topic:28. I was given the opportunity to mentor and coach others in order for me to pass on my skills and knowledge prior to my cessation date  609 non-null    object \n",
      " 46  WorkUnitViews. Topic:29. There was adequate communication between staff in my unit                                                                             603 non-null    object \n",
      " 47  WorkUnitViews. Topic:30. Staff morale was positive within my work unit                                                                                         606 non-null    object \n",
      " 48  Induction. Did you undertake Workplace Induction?                                                                                                              619 non-null    object \n",
      " 49  InductionInfo. Topic:Did you undertake a Corporate Induction?                                                                                                  432 non-null    object \n",
      " 50  InductionInfo. Topic:Did you undertake a Institute Induction?                                                                                                  483 non-null    object \n",
      " 51  InductionInfo. Topic: Did you undertake Team Induction?                                                                                                        440 non-null    object \n",
      " 52  InductionInfo. Face to Face Topic:Did you undertake a Corporate Induction; Category:How it was conducted?                                                      555 non-null    object \n",
      " 53  InductionInfo. On-line Topic:Did you undertake a Corporate Induction; Category:How it was conducted?                                                           555 non-null    object \n",
      " 54  InductionInfo. Induction Manual Topic:Did you undertake a Corporate Induction?                                                                                 555 non-null    object \n",
      " 55  InductionInfo. Face to Face Topic:Did you undertake a Institute Induction?                                                                                     530 non-null    object \n",
      " 56  InductionInfo. On-line Topic:Did you undertake a Institute Induction?                                                                                          555 non-null    object \n",
      " 57  InductionInfo. Induction Manual Topic:Did you undertake a Institute Induction?                                                                                 553 non-null    object \n",
      " 58  InductionInfo. Face to Face Topic: Did you undertake Team Induction; Category?                                                                                 555 non-null    object \n",
      " 59  InductionInfo. On-line Topic: Did you undertake Team Induction?process you undertook and how it was conducted.]                                                555 non-null    object \n",
      " 60  InductionInfo. Induction Manual Topic: Did you undertake Team Induction?                                                                                       555 non-null    object \n",
      " 61  Workplace. Topic:Did you and your Manager develop a Performance and Professional Development Plan (PPDP)?                                                      608 non-null    object \n",
      " 62  Workplace. Topic:Does your workplace promote a work culture free from all forms of unlawful discrimination?                                                    594 non-null    object \n",
      " 63  Workplace. Topic:Does your workplace promote and practice the principles of employment equity?                                                                 587 non-null    object \n",
      " 64  Workplace. Topic:Does your workplace value the diversity of its employees?                                                                                     586 non-null    object \n",
      " 65  Workplace. Topic:Would you recommend the Institute as an employer to others?                                                                                   581 non-null    object \n",
      " 66  Gender. What is your Gender?                                                                                                                                   596 non-null    object \n",
      " 67  CurrentAge. Current Age                                                                                                                                        596 non-null    object \n",
      " 68  Employment Type. Employment Type                                                                                                                               596 non-null    object \n",
      " 69  Classification. Classification                                                                                                                                 596 non-null    object \n",
      " 70  LengthofServiceOverall. Overall Length of Service at Institute (in years)                                                                                      596 non-null    object \n",
      " 71  LengthofServiceCurrent. Length of Service at current workplace (in years)                                                                                      596 non-null    object \n",
      "dtypes: float64(2), object(70)\n",
      "memory usage: 395.0+ KB\n",
      "None\n"
     ]
    }
   ],
   "source": [
    "# Import the pandas and NumPy libraries.\n",
    "\n",
    "import pandas as pd\n",
    "import numpy as np\n",
    "\n",
    "# Read the dete_survey.csv CSV file into pandas, and assign it to the variable name dete_survey.\n",
    "# Read the tafe_survey.csv CSV file into pandas, and assign it to the variable name tafe_survey.\n",
    "\n",
    "dete_survey=pd.read_csv('dete_survey.csv')\n",
    "tafe_survey=pd.read_csv('tafe_survey.csv')\n",
    "\n",
    "# Use the DataFrame.info() and DataFrame.head() methods to print information about both dataframes, as well as the first few rows. Use other data exploration methods such as the Series.value_counts() and DataFrame.isnull() methods to explore the data and figure out some next steps.\n",
    "\n",
    "print(dete_survey.info())\n",
    "print(tafe_survey.info())"
   ]
  },
  {
   "cell_type": "code",
   "execution_count": 46,
   "metadata": {},
   "outputs": [
    {
     "name": "stdout",
     "output_type": "stream",
     "text": [
      "   ID                    SeparationType Cease Date DETE Start Date  \\\n",
      "0   1             Ill Health Retirement    08/2012            1984   \n",
      "1   2  Voluntary Early Retirement (VER)    08/2012      Not Stated   \n",
      "2   3  Voluntary Early Retirement (VER)    05/2012            2011   \n",
      "3   4         Resignation-Other reasons    05/2012            2005   \n",
      "4   5                    Age Retirement    05/2012            1970   \n",
      "\n",
      "  Role Start Date                                      Position  \\\n",
      "0            2004                                Public Servant   \n",
      "1      Not Stated                                Public Servant   \n",
      "2            2011                               Schools Officer   \n",
      "3            2006                                       Teacher   \n",
      "4            1989  Head of Curriculum/Head of Special Education   \n",
      "\n",
      "  Classification              Region                      Business Unit  \\\n",
      "0        A01-A04      Central Office  Corporate Strategy and Peformance   \n",
      "1        AO5-AO7      Central Office  Corporate Strategy and Peformance   \n",
      "2            NaN      Central Office               Education Queensland   \n",
      "3        Primary  Central Queensland                                NaN   \n",
      "4            NaN          South East                                NaN   \n",
      "\n",
      "     Employment Status  ...  Kept informed  Wellness programs  \\\n",
      "0  Permanent Full-time  ...              N                  N   \n",
      "1  Permanent Full-time  ...              N                  N   \n",
      "2  Permanent Full-time  ...              N                  N   \n",
      "3  Permanent Full-time  ...              A                  N   \n",
      "4  Permanent Full-time  ...              N                  A   \n",
      "\n",
      "   Health & Safety  Gender          Age  Aboriginal  Torres Strait  South Sea  \\\n",
      "0                N    Male        56-60         NaN            NaN        NaN   \n",
      "1                N    Male        56-60         NaN            NaN        NaN   \n",
      "2                N    Male  61 or older         NaN            NaN        NaN   \n",
      "3                A  Female        36-40         NaN            NaN        NaN   \n",
      "4                M  Female  61 or older         NaN            NaN        NaN   \n",
      "\n",
      "   Disability  NESB  \n",
      "0         NaN   Yes  \n",
      "1         NaN   NaN  \n",
      "2         NaN   NaN  \n",
      "3         NaN   NaN  \n",
      "4         NaN   NaN  \n",
      "\n",
      "[5 rows x 56 columns]\n",
      "      Record ID                              Institute  \\\n",
      "0  6.341330e+17  Southern Queensland Institute of TAFE   \n",
      "1  6.341337e+17            Mount Isa Institute of TAFE   \n",
      "2  6.341388e+17            Mount Isa Institute of TAFE   \n",
      "3  6.341399e+17            Mount Isa Institute of TAFE   \n",
      "4  6.341466e+17  Southern Queensland Institute of TAFE   \n",
      "\n",
      "                   WorkArea  CESSATION YEAR Reason for ceasing employment  \\\n",
      "0  Non-Delivery (corporate)          2010.0              Contract Expired   \n",
      "1  Non-Delivery (corporate)          2010.0                    Retirement   \n",
      "2       Delivery (teaching)          2010.0                    Retirement   \n",
      "3  Non-Delivery (corporate)          2010.0                   Resignation   \n",
      "4       Delivery (teaching)          2010.0                   Resignation   \n",
      "\n",
      "  Contributing Factors. Career Move - Public Sector   \\\n",
      "0                                                NaN   \n",
      "1                                                  -   \n",
      "2                                                  -   \n",
      "3                                                  -   \n",
      "4                                                  -   \n",
      "\n",
      "  Contributing Factors. Career Move - Private Sector   \\\n",
      "0                                                NaN    \n",
      "1                                                  -    \n",
      "2                                                  -    \n",
      "3                                                  -    \n",
      "4                       Career Move - Private Sector    \n",
      "\n",
      "  Contributing Factors. Career Move - Self-employment  \\\n",
      "0                                                NaN    \n",
      "1                                                  -    \n",
      "2                                                  -    \n",
      "3                                                  -    \n",
      "4                                                  -    \n",
      "\n",
      "  Contributing Factors. Ill Health Contributing Factors. Maternity/Family  \\\n",
      "0                              NaN                                    NaN   \n",
      "1                                -                                      -   \n",
      "2                                -                                      -   \n",
      "3                                -                                      -   \n",
      "4                                -                                      -   \n",
      "\n",
      "   ...  \\\n",
      "0  ...   \n",
      "1  ...   \n",
      "2  ...   \n",
      "3  ...   \n",
      "4  ...   \n",
      "\n",
      "  Workplace. Topic:Does your workplace promote a work culture free from all forms of unlawful discrimination?  \\\n",
      "0                                                Yes                                                            \n",
      "1                                                Yes                                                            \n",
      "2                                                Yes                                                            \n",
      "3                                                Yes                                                            \n",
      "4                                                Yes                                                            \n",
      "\n",
      "  Workplace. Topic:Does your workplace promote and practice the principles of employment equity?  \\\n",
      "0                                                Yes                                               \n",
      "1                                                Yes                                               \n",
      "2                                                Yes                                               \n",
      "3                                                Yes                                               \n",
      "4                                                Yes                                               \n",
      "\n",
      "  Workplace. Topic:Does your workplace value the diversity of its employees?  \\\n",
      "0                                                Yes                           \n",
      "1                                                Yes                           \n",
      "2                                                Yes                           \n",
      "3                                                Yes                           \n",
      "4                                                Yes                           \n",
      "\n",
      "  Workplace. Topic:Would you recommend the Institute as an employer to others?  \\\n",
      "0                                                Yes                             \n",
      "1                                                Yes                             \n",
      "2                                                Yes                             \n",
      "3                                                Yes                             \n",
      "4                                                Yes                             \n",
      "\n",
      "  Gender. What is your Gender? CurrentAge. Current Age  \\\n",
      "0                       Female                  26  30   \n",
      "1                          NaN                     NaN   \n",
      "2                          NaN                     NaN   \n",
      "3                          NaN                     NaN   \n",
      "4                         Male                  41  45   \n",
      "\n",
      "  Employment Type. Employment Type Classification. Classification  \\\n",
      "0              Temporary Full-time            Administration (AO)   \n",
      "1                              NaN                            NaN   \n",
      "2                              NaN                            NaN   \n",
      "3                              NaN                            NaN   \n",
      "4              Permanent Full-time        Teacher (including LVT)   \n",
      "\n",
      "  LengthofServiceOverall. Overall Length of Service at Institute (in years)  \\\n",
      "0                                                1-2                          \n",
      "1                                                NaN                          \n",
      "2                                                NaN                          \n",
      "3                                                NaN                          \n",
      "4                                                3-4                          \n",
      "\n",
      "  LengthofServiceCurrent. Length of Service at current workplace (in years)  \n",
      "0                                                1-2                         \n",
      "1                                                NaN                         \n",
      "2                                                NaN                         \n",
      "3                                                NaN                         \n",
      "4                                                3-4                         \n",
      "\n",
      "[5 rows x 72 columns]\n"
     ]
    }
   ],
   "source": [
    "print(dete_survey.head())\n",
    "print(tafe_survey.head())"
   ]
  },
  {
   "cell_type": "code",
   "execution_count": 47,
   "metadata": {},
   "outputs": [
    {
     "data": {
      "text/html": [
       "<div>\n",
       "<style scoped>\n",
       "    .dataframe tbody tr th:only-of-type {\n",
       "        vertical-align: middle;\n",
       "    }\n",
       "\n",
       "    .dataframe tbody tr th {\n",
       "        vertical-align: top;\n",
       "    }\n",
       "\n",
       "    .dataframe thead th {\n",
       "        text-align: right;\n",
       "    }\n",
       "</style>\n",
       "<table border=\"1\" class=\"dataframe\">\n",
       "  <thead>\n",
       "    <tr style=\"text-align: right;\">\n",
       "      <th></th>\n",
       "      <th>ID</th>\n",
       "      <th>SeparationType</th>\n",
       "      <th>Cease Date</th>\n",
       "      <th>DETE Start Date</th>\n",
       "      <th>Role Start Date</th>\n",
       "      <th>Position</th>\n",
       "      <th>Classification</th>\n",
       "      <th>Region</th>\n",
       "      <th>Business Unit</th>\n",
       "      <th>Employment Status</th>\n",
       "      <th>...</th>\n",
       "      <th>Kept informed</th>\n",
       "      <th>Wellness programs</th>\n",
       "      <th>Health &amp; Safety</th>\n",
       "      <th>Gender</th>\n",
       "      <th>Age</th>\n",
       "      <th>Aboriginal</th>\n",
       "      <th>Torres Strait</th>\n",
       "      <th>South Sea</th>\n",
       "      <th>Disability</th>\n",
       "      <th>NESB</th>\n",
       "    </tr>\n",
       "  </thead>\n",
       "  <tbody>\n",
       "    <tr>\n",
       "      <th>0</th>\n",
       "      <td>1</td>\n",
       "      <td>Ill Health Retirement</td>\n",
       "      <td>08/2012</td>\n",
       "      <td>1984.0</td>\n",
       "      <td>2004.0</td>\n",
       "      <td>Public Servant</td>\n",
       "      <td>A01-A04</td>\n",
       "      <td>Central Office</td>\n",
       "      <td>Corporate Strategy and Peformance</td>\n",
       "      <td>Permanent Full-time</td>\n",
       "      <td>...</td>\n",
       "      <td>N</td>\n",
       "      <td>N</td>\n",
       "      <td>N</td>\n",
       "      <td>Male</td>\n",
       "      <td>56-60</td>\n",
       "      <td>NaN</td>\n",
       "      <td>NaN</td>\n",
       "      <td>NaN</td>\n",
       "      <td>NaN</td>\n",
       "      <td>Yes</td>\n",
       "    </tr>\n",
       "    <tr>\n",
       "      <th>1</th>\n",
       "      <td>2</td>\n",
       "      <td>Voluntary Early Retirement (VER)</td>\n",
       "      <td>08/2012</td>\n",
       "      <td>NaN</td>\n",
       "      <td>NaN</td>\n",
       "      <td>Public Servant</td>\n",
       "      <td>AO5-AO7</td>\n",
       "      <td>Central Office</td>\n",
       "      <td>Corporate Strategy and Peformance</td>\n",
       "      <td>Permanent Full-time</td>\n",
       "      <td>...</td>\n",
       "      <td>N</td>\n",
       "      <td>N</td>\n",
       "      <td>N</td>\n",
       "      <td>Male</td>\n",
       "      <td>56-60</td>\n",
       "      <td>NaN</td>\n",
       "      <td>NaN</td>\n",
       "      <td>NaN</td>\n",
       "      <td>NaN</td>\n",
       "      <td>NaN</td>\n",
       "    </tr>\n",
       "    <tr>\n",
       "      <th>2</th>\n",
       "      <td>3</td>\n",
       "      <td>Voluntary Early Retirement (VER)</td>\n",
       "      <td>05/2012</td>\n",
       "      <td>2011.0</td>\n",
       "      <td>2011.0</td>\n",
       "      <td>Schools Officer</td>\n",
       "      <td>NaN</td>\n",
       "      <td>Central Office</td>\n",
       "      <td>Education Queensland</td>\n",
       "      <td>Permanent Full-time</td>\n",
       "      <td>...</td>\n",
       "      <td>N</td>\n",
       "      <td>N</td>\n",
       "      <td>N</td>\n",
       "      <td>Male</td>\n",
       "      <td>61 or older</td>\n",
       "      <td>NaN</td>\n",
       "      <td>NaN</td>\n",
       "      <td>NaN</td>\n",
       "      <td>NaN</td>\n",
       "      <td>NaN</td>\n",
       "    </tr>\n",
       "    <tr>\n",
       "      <th>3</th>\n",
       "      <td>4</td>\n",
       "      <td>Resignation-Other reasons</td>\n",
       "      <td>05/2012</td>\n",
       "      <td>2005.0</td>\n",
       "      <td>2006.0</td>\n",
       "      <td>Teacher</td>\n",
       "      <td>Primary</td>\n",
       "      <td>Central Queensland</td>\n",
       "      <td>NaN</td>\n",
       "      <td>Permanent Full-time</td>\n",
       "      <td>...</td>\n",
       "      <td>A</td>\n",
       "      <td>N</td>\n",
       "      <td>A</td>\n",
       "      <td>Female</td>\n",
       "      <td>36-40</td>\n",
       "      <td>NaN</td>\n",
       "      <td>NaN</td>\n",
       "      <td>NaN</td>\n",
       "      <td>NaN</td>\n",
       "      <td>NaN</td>\n",
       "    </tr>\n",
       "    <tr>\n",
       "      <th>4</th>\n",
       "      <td>5</td>\n",
       "      <td>Age Retirement</td>\n",
       "      <td>05/2012</td>\n",
       "      <td>1970.0</td>\n",
       "      <td>1989.0</td>\n",
       "      <td>Head of Curriculum/Head of Special Education</td>\n",
       "      <td>NaN</td>\n",
       "      <td>South East</td>\n",
       "      <td>NaN</td>\n",
       "      <td>Permanent Full-time</td>\n",
       "      <td>...</td>\n",
       "      <td>N</td>\n",
       "      <td>A</td>\n",
       "      <td>M</td>\n",
       "      <td>Female</td>\n",
       "      <td>61 or older</td>\n",
       "      <td>NaN</td>\n",
       "      <td>NaN</td>\n",
       "      <td>NaN</td>\n",
       "      <td>NaN</td>\n",
       "      <td>NaN</td>\n",
       "    </tr>\n",
       "  </tbody>\n",
       "</table>\n",
       "<p>5 rows × 56 columns</p>\n",
       "</div>"
      ],
      "text/plain": [
       "   ID                    SeparationType Cease Date  DETE Start Date  \\\n",
       "0   1             Ill Health Retirement    08/2012           1984.0   \n",
       "1   2  Voluntary Early Retirement (VER)    08/2012              NaN   \n",
       "2   3  Voluntary Early Retirement (VER)    05/2012           2011.0   \n",
       "3   4         Resignation-Other reasons    05/2012           2005.0   \n",
       "4   5                    Age Retirement    05/2012           1970.0   \n",
       "\n",
       "   Role Start Date                                      Position  \\\n",
       "0           2004.0                                Public Servant   \n",
       "1              NaN                                Public Servant   \n",
       "2           2011.0                               Schools Officer   \n",
       "3           2006.0                                       Teacher   \n",
       "4           1989.0  Head of Curriculum/Head of Special Education   \n",
       "\n",
       "  Classification              Region                      Business Unit  \\\n",
       "0        A01-A04      Central Office  Corporate Strategy and Peformance   \n",
       "1        AO5-AO7      Central Office  Corporate Strategy and Peformance   \n",
       "2            NaN      Central Office               Education Queensland   \n",
       "3        Primary  Central Queensland                                NaN   \n",
       "4            NaN          South East                                NaN   \n",
       "\n",
       "     Employment Status  ...  Kept informed  Wellness programs  \\\n",
       "0  Permanent Full-time  ...              N                  N   \n",
       "1  Permanent Full-time  ...              N                  N   \n",
       "2  Permanent Full-time  ...              N                  N   \n",
       "3  Permanent Full-time  ...              A                  N   \n",
       "4  Permanent Full-time  ...              N                  A   \n",
       "\n",
       "   Health & Safety  Gender          Age  Aboriginal  Torres Strait  South Sea  \\\n",
       "0                N    Male        56-60         NaN            NaN        NaN   \n",
       "1                N    Male        56-60         NaN            NaN        NaN   \n",
       "2                N    Male  61 or older         NaN            NaN        NaN   \n",
       "3                A  Female        36-40         NaN            NaN        NaN   \n",
       "4                M  Female  61 or older         NaN            NaN        NaN   \n",
       "\n",
       "   Disability  NESB  \n",
       "0         NaN   Yes  \n",
       "1         NaN   NaN  \n",
       "2         NaN   NaN  \n",
       "3         NaN   NaN  \n",
       "4         NaN   NaN  \n",
       "\n",
       "[5 rows x 56 columns]"
      ]
     },
     "execution_count": 47,
     "metadata": {},
     "output_type": "execute_result"
    }
   ],
   "source": [
    "# Read the dete_survey.csv CSV file into pandas again, but this time read the Not Stated values in as NaN.\n",
    "# To read Not Stated in as NaN, set the na_values parameter to Not Stated in the pd.read_csv() function.\n",
    "# Assign the result to the variable name dete_survey.\n",
    "\n",
    "dete_survey=pd.read_csv('dete_survey.csv',na_values='Not Stated')\n",
    "dete_survey.head()"
   ]
  },
  {
   "cell_type": "code",
   "execution_count": 48,
   "metadata": {},
   "outputs": [],
   "source": [
    "# Then, let's drop some columns from each dataframe that we won't use in our analysis to make the dataframes easier to work with.\n",
    "# Use the DataFrame.drop() method to drop the following columns from dete_survey: dete_survey.columns[28:49]. Remember to set the axis parameter equal to 1.\n",
    "# Assign the result to dete_survey_updated.\n",
    "\n",
    "dete_survey_updated=dete_survey.drop(dete_survey.columns[28:49],axis=1)"
   ]
  },
  {
   "cell_type": "code",
   "execution_count": 49,
   "metadata": {},
   "outputs": [],
   "source": [
    "tafe_survey_updated=tafe_survey.drop(tafe_survey.columns[17:66],axis=1)"
   ]
  },
  {
   "cell_type": "code",
   "execution_count": 50,
   "metadata": {},
   "outputs": [
    {
     "name": "stdout",
     "output_type": "stream",
     "text": [
      "Index(['ID', 'SeparationType', 'Cease Date', 'DETE Start Date',\n",
      "       'Role Start Date', 'Position', 'Classification', 'Region',\n",
      "       'Business Unit', 'Employment Status', 'Career move to public sector',\n",
      "       'Career move to private sector', 'Interpersonal conflicts',\n",
      "       'Job dissatisfaction', 'Dissatisfaction with the department',\n",
      "       'Physical work environment', 'Lack of recognition',\n",
      "       'Lack of job security', 'Work location', 'Employment conditions',\n",
      "       'Maternity/family', 'Relocation', 'Study/Travel', 'Ill Health',\n",
      "       'Traumatic incident', 'Work life balance', 'Workload',\n",
      "       'None of the above', 'Gender', 'Age', 'Aboriginal', 'Torres Strait',\n",
      "       'South Sea', 'Disability', 'NESB'],\n",
      "      dtype='object')\n",
      "Index(['Record ID', 'Institute', 'WorkArea', 'CESSATION YEAR',\n",
      "       'Reason for ceasing employment',\n",
      "       'Contributing Factors. Career Move - Public Sector ',\n",
      "       'Contributing Factors. Career Move - Private Sector ',\n",
      "       'Contributing Factors. Career Move - Self-employment',\n",
      "       'Contributing Factors. Ill Health',\n",
      "       'Contributing Factors. Maternity/Family',\n",
      "       'Contributing Factors. Dissatisfaction',\n",
      "       'Contributing Factors. Job Dissatisfaction',\n",
      "       'Contributing Factors. Interpersonal Conflict',\n",
      "       'Contributing Factors. Study', 'Contributing Factors. Travel',\n",
      "       'Contributing Factors. Other', 'Contributing Factors. NONE',\n",
      "       'Gender. What is your Gender?', 'CurrentAge. Current Age',\n",
      "       'Employment Type. Employment Type', 'Classification. Classification',\n",
      "       'LengthofServiceOverall. Overall Length of Service at Institute (in years)',\n",
      "       'LengthofServiceCurrent. Length of Service at current workplace (in years)'],\n",
      "      dtype='object')\n"
     ]
    }
   ],
   "source": [
    "print(dete_survey_updated.columns)\n",
    "print(tafe_survey_updated.columns)"
   ]
  },
  {
   "cell_type": "code",
   "execution_count": 51,
   "metadata": {},
   "outputs": [
    {
     "data": {
      "text/plain": [
       "Index(['id', 'separationtype', 'cease_date', 'dete_start_date',\n",
       "       'role_start_date', 'position', 'classification', 'region',\n",
       "       'business_unit', 'employment_status', 'career_move_to_public_sector',\n",
       "       'career_move_to_private_sector', 'interpersonal_conflicts',\n",
       "       'job_dissatisfaction', 'dissatisfaction_with_the_department',\n",
       "       'physical_work_environment', 'lack_of_recognition',\n",
       "       'lack_of_job_security', 'work_location', 'employment_conditions',\n",
       "       'maternity/family', 'relocation', 'study/travel', 'ill_health',\n",
       "       'traumatic_incident', 'work_life_balance', 'workload',\n",
       "       'none_of_the_above', 'gender', 'age', 'aboriginal', 'torres_strait',\n",
       "       'south_sea', 'disability', 'nesb'],\n",
       "      dtype='object')"
      ]
     },
     "execution_count": 51,
     "metadata": {},
     "output_type": "execute_result"
    }
   ],
   "source": [
    "# Rename the remaining columns in the dete_survey_updated dataframe.\n",
    "# Use the following criteria to update the column names:\n",
    "# Make all the capitalization lowercase.\n",
    "# Remove any trailing whitespace from the end of the strings.\n",
    "# Replace spaces with underscores ('_').\n",
    "# As an example, Cease Date should be updated to cease_date.\n",
    "# Remember you can use the DataFrame.columns attribute to print an array of the existing column names.\n",
    "\n",
    "dete_survey_updated.columns= dete_survey_updated.columns.str.lower().str.strip().str.replace(' ', '_')\n",
    "dete_survey_updated.columns"
   ]
  },
  {
   "cell_type": "code",
   "execution_count": 52,
   "metadata": {},
   "outputs": [
    {
     "data": {
      "text/plain": [
       "Index(['id', 'Institute', 'WorkArea', 'cease_date', 'separationtype',\n",
       "       'Contributing Factors. Career Move - Public Sector ',\n",
       "       'Contributing Factors. Career Move - Private Sector ',\n",
       "       'Contributing Factors. Career Move - Self-employment',\n",
       "       'Contributing Factors. Ill Health',\n",
       "       'Contributing Factors. Maternity/Family',\n",
       "       'Contributing Factors. Dissatisfaction',\n",
       "       'Contributing Factors. Job Dissatisfaction',\n",
       "       'Contributing Factors. Interpersonal Conflict',\n",
       "       'Contributing Factors. Study', 'Contributing Factors. Travel',\n",
       "       'Contributing Factors. Other', 'Contributing Factors. NONE', 'gender',\n",
       "       'age', 'employment_status', 'position', 'institute_service',\n",
       "       'role_service'],\n",
       "      dtype='object')"
      ]
     },
     "execution_count": 52,
     "metadata": {},
     "output_type": "execute_result"
    }
   ],
   "source": [
    "# Use the DataFrame.rename() method to update the columns below in tafe_survey_updated. Don't worry about the rest of the column names right now - we'll handle them later.\n",
    "# 'Record ID': 'id'\n",
    "# 'CESSATION YEAR': 'cease_date'\n",
    "# 'Reason for ceasing employment': 'separationtype'\n",
    "# 'Gender. What is your Gender?': 'gender'\n",
    "# 'CurrentAge. Current Age': 'age'\n",
    "# 'Employment Type. Employment Type': 'employment_status'\n",
    "# 'Classification. Classification': 'position'\n",
    "# 'LengthofServiceOverall. Overall Length of Service at Institute (in years)': 'institute_service'\n",
    "# 'LengthofServiceCurrent. Length of Service at current workplace (in years)': 'role_service'\n",
    "\n",
    "mapping = {'Record ID': 'id', 'CESSATION YEAR': 'cease_date', 'Reason for ceasing employment': 'separationtype', 'Gender. What is your Gender?': 'gender', 'CurrentAge. Current Age': 'age',\n",
    "       'Employment Type. Employment Type': 'employment_status',\n",
    "       'Classification. Classification': 'position',\n",
    "       'LengthofServiceOverall. Overall Length of Service at Institute (in years)': 'institute_service',\n",
    "       'LengthofServiceCurrent. Length of Service at current workplace (in years)': 'role_service'}\n",
    "\n",
    "tafe_survey_updated=tafe_survey_updated.rename(mapping, axis = 1)\n",
    "tafe_survey_updated.columns"
   ]
  },
  {
   "cell_type": "code",
   "execution_count": 53,
   "metadata": {},
   "outputs": [
    {
     "data": {
      "text/html": [
       "<div>\n",
       "<style scoped>\n",
       "    .dataframe tbody tr th:only-of-type {\n",
       "        vertical-align: middle;\n",
       "    }\n",
       "\n",
       "    .dataframe tbody tr th {\n",
       "        vertical-align: top;\n",
       "    }\n",
       "\n",
       "    .dataframe thead th {\n",
       "        text-align: right;\n",
       "    }\n",
       "</style>\n",
       "<table border=\"1\" class=\"dataframe\">\n",
       "  <thead>\n",
       "    <tr style=\"text-align: right;\">\n",
       "      <th></th>\n",
       "      <th>id</th>\n",
       "      <th>separationtype</th>\n",
       "      <th>cease_date</th>\n",
       "      <th>dete_start_date</th>\n",
       "      <th>role_start_date</th>\n",
       "      <th>position</th>\n",
       "      <th>classification</th>\n",
       "      <th>region</th>\n",
       "      <th>business_unit</th>\n",
       "      <th>employment_status</th>\n",
       "      <th>...</th>\n",
       "      <th>work_life_balance</th>\n",
       "      <th>workload</th>\n",
       "      <th>none_of_the_above</th>\n",
       "      <th>gender</th>\n",
       "      <th>age</th>\n",
       "      <th>aboriginal</th>\n",
       "      <th>torres_strait</th>\n",
       "      <th>south_sea</th>\n",
       "      <th>disability</th>\n",
       "      <th>nesb</th>\n",
       "    </tr>\n",
       "  </thead>\n",
       "  <tbody>\n",
       "    <tr>\n",
       "      <th>0</th>\n",
       "      <td>1</td>\n",
       "      <td>Ill Health Retirement</td>\n",
       "      <td>08/2012</td>\n",
       "      <td>1984.0</td>\n",
       "      <td>2004.0</td>\n",
       "      <td>Public Servant</td>\n",
       "      <td>A01-A04</td>\n",
       "      <td>Central Office</td>\n",
       "      <td>Corporate Strategy and Peformance</td>\n",
       "      <td>Permanent Full-time</td>\n",
       "      <td>...</td>\n",
       "      <td>False</td>\n",
       "      <td>False</td>\n",
       "      <td>True</td>\n",
       "      <td>Male</td>\n",
       "      <td>56-60</td>\n",
       "      <td>NaN</td>\n",
       "      <td>NaN</td>\n",
       "      <td>NaN</td>\n",
       "      <td>NaN</td>\n",
       "      <td>Yes</td>\n",
       "    </tr>\n",
       "    <tr>\n",
       "      <th>1</th>\n",
       "      <td>2</td>\n",
       "      <td>Voluntary Early Retirement (VER)</td>\n",
       "      <td>08/2012</td>\n",
       "      <td>NaN</td>\n",
       "      <td>NaN</td>\n",
       "      <td>Public Servant</td>\n",
       "      <td>AO5-AO7</td>\n",
       "      <td>Central Office</td>\n",
       "      <td>Corporate Strategy and Peformance</td>\n",
       "      <td>Permanent Full-time</td>\n",
       "      <td>...</td>\n",
       "      <td>False</td>\n",
       "      <td>False</td>\n",
       "      <td>False</td>\n",
       "      <td>Male</td>\n",
       "      <td>56-60</td>\n",
       "      <td>NaN</td>\n",
       "      <td>NaN</td>\n",
       "      <td>NaN</td>\n",
       "      <td>NaN</td>\n",
       "      <td>NaN</td>\n",
       "    </tr>\n",
       "    <tr>\n",
       "      <th>2</th>\n",
       "      <td>3</td>\n",
       "      <td>Voluntary Early Retirement (VER)</td>\n",
       "      <td>05/2012</td>\n",
       "      <td>2011.0</td>\n",
       "      <td>2011.0</td>\n",
       "      <td>Schools Officer</td>\n",
       "      <td>NaN</td>\n",
       "      <td>Central Office</td>\n",
       "      <td>Education Queensland</td>\n",
       "      <td>Permanent Full-time</td>\n",
       "      <td>...</td>\n",
       "      <td>False</td>\n",
       "      <td>False</td>\n",
       "      <td>True</td>\n",
       "      <td>Male</td>\n",
       "      <td>61 or older</td>\n",
       "      <td>NaN</td>\n",
       "      <td>NaN</td>\n",
       "      <td>NaN</td>\n",
       "      <td>NaN</td>\n",
       "      <td>NaN</td>\n",
       "    </tr>\n",
       "    <tr>\n",
       "      <th>3</th>\n",
       "      <td>4</td>\n",
       "      <td>Resignation-Other reasons</td>\n",
       "      <td>05/2012</td>\n",
       "      <td>2005.0</td>\n",
       "      <td>2006.0</td>\n",
       "      <td>Teacher</td>\n",
       "      <td>Primary</td>\n",
       "      <td>Central Queensland</td>\n",
       "      <td>NaN</td>\n",
       "      <td>Permanent Full-time</td>\n",
       "      <td>...</td>\n",
       "      <td>False</td>\n",
       "      <td>False</td>\n",
       "      <td>False</td>\n",
       "      <td>Female</td>\n",
       "      <td>36-40</td>\n",
       "      <td>NaN</td>\n",
       "      <td>NaN</td>\n",
       "      <td>NaN</td>\n",
       "      <td>NaN</td>\n",
       "      <td>NaN</td>\n",
       "    </tr>\n",
       "    <tr>\n",
       "      <th>4</th>\n",
       "      <td>5</td>\n",
       "      <td>Age Retirement</td>\n",
       "      <td>05/2012</td>\n",
       "      <td>1970.0</td>\n",
       "      <td>1989.0</td>\n",
       "      <td>Head of Curriculum/Head of Special Education</td>\n",
       "      <td>NaN</td>\n",
       "      <td>South East</td>\n",
       "      <td>NaN</td>\n",
       "      <td>Permanent Full-time</td>\n",
       "      <td>...</td>\n",
       "      <td>True</td>\n",
       "      <td>False</td>\n",
       "      <td>False</td>\n",
       "      <td>Female</td>\n",
       "      <td>61 or older</td>\n",
       "      <td>NaN</td>\n",
       "      <td>NaN</td>\n",
       "      <td>NaN</td>\n",
       "      <td>NaN</td>\n",
       "      <td>NaN</td>\n",
       "    </tr>\n",
       "  </tbody>\n",
       "</table>\n",
       "<p>5 rows × 35 columns</p>\n",
       "</div>"
      ],
      "text/plain": [
       "   id                    separationtype cease_date  dete_start_date  \\\n",
       "0   1             Ill Health Retirement    08/2012           1984.0   \n",
       "1   2  Voluntary Early Retirement (VER)    08/2012              NaN   \n",
       "2   3  Voluntary Early Retirement (VER)    05/2012           2011.0   \n",
       "3   4         Resignation-Other reasons    05/2012           2005.0   \n",
       "4   5                    Age Retirement    05/2012           1970.0   \n",
       "\n",
       "   role_start_date                                      position  \\\n",
       "0           2004.0                                Public Servant   \n",
       "1              NaN                                Public Servant   \n",
       "2           2011.0                               Schools Officer   \n",
       "3           2006.0                                       Teacher   \n",
       "4           1989.0  Head of Curriculum/Head of Special Education   \n",
       "\n",
       "  classification              region                      business_unit  \\\n",
       "0        A01-A04      Central Office  Corporate Strategy and Peformance   \n",
       "1        AO5-AO7      Central Office  Corporate Strategy and Peformance   \n",
       "2            NaN      Central Office               Education Queensland   \n",
       "3        Primary  Central Queensland                                NaN   \n",
       "4            NaN          South East                                NaN   \n",
       "\n",
       "     employment_status  ...  work_life_balance  workload  none_of_the_above  \\\n",
       "0  Permanent Full-time  ...              False     False               True   \n",
       "1  Permanent Full-time  ...              False     False              False   \n",
       "2  Permanent Full-time  ...              False     False               True   \n",
       "3  Permanent Full-time  ...              False     False              False   \n",
       "4  Permanent Full-time  ...               True     False              False   \n",
       "\n",
       "   gender          age  aboriginal  torres_strait  south_sea  disability  nesb  \n",
       "0    Male        56-60         NaN            NaN        NaN         NaN   Yes  \n",
       "1    Male        56-60         NaN            NaN        NaN         NaN   NaN  \n",
       "2    Male  61 or older         NaN            NaN        NaN         NaN   NaN  \n",
       "3  Female        36-40         NaN            NaN        NaN         NaN   NaN  \n",
       "4  Female  61 or older         NaN            NaN        NaN         NaN   NaN  \n",
       "\n",
       "[5 rows x 35 columns]"
      ]
     },
     "execution_count": 53,
     "metadata": {},
     "output_type": "execute_result"
    }
   ],
   "source": [
    "# Use the DataFrame.head() method to look at the current state of the dete_survey_updated and tafe_survey_updated dataframes and make sure your changes look good.\n",
    "\n",
    "dete_survey_updated.head()"
   ]
  },
  {
   "cell_type": "code",
   "execution_count": 54,
   "metadata": {},
   "outputs": [
    {
     "data": {
      "text/html": [
       "<div>\n",
       "<style scoped>\n",
       "    .dataframe tbody tr th:only-of-type {\n",
       "        vertical-align: middle;\n",
       "    }\n",
       "\n",
       "    .dataframe tbody tr th {\n",
       "        vertical-align: top;\n",
       "    }\n",
       "\n",
       "    .dataframe thead th {\n",
       "        text-align: right;\n",
       "    }\n",
       "</style>\n",
       "<table border=\"1\" class=\"dataframe\">\n",
       "  <thead>\n",
       "    <tr style=\"text-align: right;\">\n",
       "      <th></th>\n",
       "      <th>id</th>\n",
       "      <th>Institute</th>\n",
       "      <th>WorkArea</th>\n",
       "      <th>cease_date</th>\n",
       "      <th>separationtype</th>\n",
       "      <th>Contributing Factors. Career Move - Public Sector</th>\n",
       "      <th>Contributing Factors. Career Move - Private Sector</th>\n",
       "      <th>Contributing Factors. Career Move - Self-employment</th>\n",
       "      <th>Contributing Factors. Ill Health</th>\n",
       "      <th>Contributing Factors. Maternity/Family</th>\n",
       "      <th>...</th>\n",
       "      <th>Contributing Factors. Study</th>\n",
       "      <th>Contributing Factors. Travel</th>\n",
       "      <th>Contributing Factors. Other</th>\n",
       "      <th>Contributing Factors. NONE</th>\n",
       "      <th>gender</th>\n",
       "      <th>age</th>\n",
       "      <th>employment_status</th>\n",
       "      <th>position</th>\n",
       "      <th>institute_service</th>\n",
       "      <th>role_service</th>\n",
       "    </tr>\n",
       "  </thead>\n",
       "  <tbody>\n",
       "    <tr>\n",
       "      <th>0</th>\n",
       "      <td>6.341330e+17</td>\n",
       "      <td>Southern Queensland Institute of TAFE</td>\n",
       "      <td>Non-Delivery (corporate)</td>\n",
       "      <td>2010.0</td>\n",
       "      <td>Contract Expired</td>\n",
       "      <td>NaN</td>\n",
       "      <td>NaN</td>\n",
       "      <td>NaN</td>\n",
       "      <td>NaN</td>\n",
       "      <td>NaN</td>\n",
       "      <td>...</td>\n",
       "      <td>NaN</td>\n",
       "      <td>NaN</td>\n",
       "      <td>NaN</td>\n",
       "      <td>NaN</td>\n",
       "      <td>Female</td>\n",
       "      <td>26  30</td>\n",
       "      <td>Temporary Full-time</td>\n",
       "      <td>Administration (AO)</td>\n",
       "      <td>1-2</td>\n",
       "      <td>1-2</td>\n",
       "    </tr>\n",
       "    <tr>\n",
       "      <th>1</th>\n",
       "      <td>6.341337e+17</td>\n",
       "      <td>Mount Isa Institute of TAFE</td>\n",
       "      <td>Non-Delivery (corporate)</td>\n",
       "      <td>2010.0</td>\n",
       "      <td>Retirement</td>\n",
       "      <td>-</td>\n",
       "      <td>-</td>\n",
       "      <td>-</td>\n",
       "      <td>-</td>\n",
       "      <td>-</td>\n",
       "      <td>...</td>\n",
       "      <td>-</td>\n",
       "      <td>Travel</td>\n",
       "      <td>-</td>\n",
       "      <td>-</td>\n",
       "      <td>NaN</td>\n",
       "      <td>NaN</td>\n",
       "      <td>NaN</td>\n",
       "      <td>NaN</td>\n",
       "      <td>NaN</td>\n",
       "      <td>NaN</td>\n",
       "    </tr>\n",
       "    <tr>\n",
       "      <th>2</th>\n",
       "      <td>6.341388e+17</td>\n",
       "      <td>Mount Isa Institute of TAFE</td>\n",
       "      <td>Delivery (teaching)</td>\n",
       "      <td>2010.0</td>\n",
       "      <td>Retirement</td>\n",
       "      <td>-</td>\n",
       "      <td>-</td>\n",
       "      <td>-</td>\n",
       "      <td>-</td>\n",
       "      <td>-</td>\n",
       "      <td>...</td>\n",
       "      <td>-</td>\n",
       "      <td>-</td>\n",
       "      <td>-</td>\n",
       "      <td>NONE</td>\n",
       "      <td>NaN</td>\n",
       "      <td>NaN</td>\n",
       "      <td>NaN</td>\n",
       "      <td>NaN</td>\n",
       "      <td>NaN</td>\n",
       "      <td>NaN</td>\n",
       "    </tr>\n",
       "    <tr>\n",
       "      <th>3</th>\n",
       "      <td>6.341399e+17</td>\n",
       "      <td>Mount Isa Institute of TAFE</td>\n",
       "      <td>Non-Delivery (corporate)</td>\n",
       "      <td>2010.0</td>\n",
       "      <td>Resignation</td>\n",
       "      <td>-</td>\n",
       "      <td>-</td>\n",
       "      <td>-</td>\n",
       "      <td>-</td>\n",
       "      <td>-</td>\n",
       "      <td>...</td>\n",
       "      <td>-</td>\n",
       "      <td>Travel</td>\n",
       "      <td>-</td>\n",
       "      <td>-</td>\n",
       "      <td>NaN</td>\n",
       "      <td>NaN</td>\n",
       "      <td>NaN</td>\n",
       "      <td>NaN</td>\n",
       "      <td>NaN</td>\n",
       "      <td>NaN</td>\n",
       "    </tr>\n",
       "    <tr>\n",
       "      <th>4</th>\n",
       "      <td>6.341466e+17</td>\n",
       "      <td>Southern Queensland Institute of TAFE</td>\n",
       "      <td>Delivery (teaching)</td>\n",
       "      <td>2010.0</td>\n",
       "      <td>Resignation</td>\n",
       "      <td>-</td>\n",
       "      <td>Career Move - Private Sector</td>\n",
       "      <td>-</td>\n",
       "      <td>-</td>\n",
       "      <td>-</td>\n",
       "      <td>...</td>\n",
       "      <td>-</td>\n",
       "      <td>-</td>\n",
       "      <td>-</td>\n",
       "      <td>-</td>\n",
       "      <td>Male</td>\n",
       "      <td>41  45</td>\n",
       "      <td>Permanent Full-time</td>\n",
       "      <td>Teacher (including LVT)</td>\n",
       "      <td>3-4</td>\n",
       "      <td>3-4</td>\n",
       "    </tr>\n",
       "  </tbody>\n",
       "</table>\n",
       "<p>5 rows × 23 columns</p>\n",
       "</div>"
      ],
      "text/plain": [
       "             id                              Institute  \\\n",
       "0  6.341330e+17  Southern Queensland Institute of TAFE   \n",
       "1  6.341337e+17            Mount Isa Institute of TAFE   \n",
       "2  6.341388e+17            Mount Isa Institute of TAFE   \n",
       "3  6.341399e+17            Mount Isa Institute of TAFE   \n",
       "4  6.341466e+17  Southern Queensland Institute of TAFE   \n",
       "\n",
       "                   WorkArea  cease_date    separationtype  \\\n",
       "0  Non-Delivery (corporate)      2010.0  Contract Expired   \n",
       "1  Non-Delivery (corporate)      2010.0        Retirement   \n",
       "2       Delivery (teaching)      2010.0        Retirement   \n",
       "3  Non-Delivery (corporate)      2010.0       Resignation   \n",
       "4       Delivery (teaching)      2010.0       Resignation   \n",
       "\n",
       "  Contributing Factors. Career Move - Public Sector   \\\n",
       "0                                                NaN   \n",
       "1                                                  -   \n",
       "2                                                  -   \n",
       "3                                                  -   \n",
       "4                                                  -   \n",
       "\n",
       "  Contributing Factors. Career Move - Private Sector   \\\n",
       "0                                                NaN    \n",
       "1                                                  -    \n",
       "2                                                  -    \n",
       "3                                                  -    \n",
       "4                       Career Move - Private Sector    \n",
       "\n",
       "  Contributing Factors. Career Move - Self-employment  \\\n",
       "0                                                NaN    \n",
       "1                                                  -    \n",
       "2                                                  -    \n",
       "3                                                  -    \n",
       "4                                                  -    \n",
       "\n",
       "  Contributing Factors. Ill Health Contributing Factors. Maternity/Family  \\\n",
       "0                              NaN                                    NaN   \n",
       "1                                -                                      -   \n",
       "2                                -                                      -   \n",
       "3                                -                                      -   \n",
       "4                                -                                      -   \n",
       "\n",
       "   ... Contributing Factors. Study Contributing Factors. Travel  \\\n",
       "0  ...                         NaN                          NaN   \n",
       "1  ...                           -                       Travel   \n",
       "2  ...                           -                            -   \n",
       "3  ...                           -                       Travel   \n",
       "4  ...                           -                            -   \n",
       "\n",
       "  Contributing Factors. Other Contributing Factors. NONE  gender     age  \\\n",
       "0                         NaN                        NaN  Female  26  30   \n",
       "1                           -                          -     NaN     NaN   \n",
       "2                           -                       NONE     NaN     NaN   \n",
       "3                           -                          -     NaN     NaN   \n",
       "4                           -                          -    Male  41  45   \n",
       "\n",
       "     employment_status                 position institute_service role_service  \n",
       "0  Temporary Full-time      Administration (AO)               1-2          1-2  \n",
       "1                  NaN                      NaN               NaN          NaN  \n",
       "2                  NaN                      NaN               NaN          NaN  \n",
       "3                  NaN                      NaN               NaN          NaN  \n",
       "4  Permanent Full-time  Teacher (including LVT)               3-4          3-4  \n",
       "\n",
       "[5 rows x 23 columns]"
      ]
     },
     "execution_count": 54,
     "metadata": {},
     "output_type": "execute_result"
    }
   ],
   "source": [
    "tafe_survey_updated.head()"
   ]
  },
  {
   "cell_type": "code",
   "execution_count": 55,
   "metadata": {},
   "outputs": [
    {
     "data": {
      "text/plain": [
       "Age Retirement                          285\n",
       "Resignation-Other reasons               150\n",
       "Resignation-Other employer               91\n",
       "Resignation-Move overseas/interstate     70\n",
       "Voluntary Early Retirement (VER)         67\n",
       "Ill Health Retirement                    61\n",
       "Other                                    49\n",
       "Contract Expired                         34\n",
       "Termination                              15\n",
       "Name: separationtype, dtype: int64"
      ]
     },
     "execution_count": 55,
     "metadata": {},
     "output_type": "execute_result"
    }
   ],
   "source": [
    "# Use the Series.value_counts() method to review the unique values in the separationtype column in both dete_survey_updated and tafe_survey_updated.\n",
    "\n",
    "dete_survey_updated['separationtype'].value_counts()"
   ]
  },
  {
   "cell_type": "code",
   "execution_count": 56,
   "metadata": {},
   "outputs": [
    {
     "data": {
      "text/plain": [
       "Resignation                 340\n",
       "Contract Expired            127\n",
       "Retrenchment/ Redundancy    104\n",
       "Retirement                   82\n",
       "Transfer                     25\n",
       "Termination                  23\n",
       "Name: separationtype, dtype: int64"
      ]
     },
     "execution_count": 56,
     "metadata": {},
     "output_type": "execute_result"
    }
   ],
   "source": [
    "tafe_survey_updated['separationtype'].value_counts()"
   ]
  },
  {
   "cell_type": "code",
   "execution_count": 57,
   "metadata": {},
   "outputs": [
    {
     "data": {
      "text/plain": [
       "Resignation                         311\n",
       "Age Retirement                      285\n",
       "Voluntary Early Retirement (VER)     67\n",
       "Ill Health Retirement                61\n",
       "Other                                49\n",
       "Contract Expired                     34\n",
       "Termination                          15\n",
       "Name: separationtype, dtype: int64"
      ]
     },
     "execution_count": 57,
     "metadata": {},
     "output_type": "execute_result"
    }
   ],
   "source": [
    "dete_survey_updated['separationtype'] = dete_survey_updated['separationtype'].str.split('-').str[0]\n",
    "dete_survey_updated['separationtype'].value_counts()"
   ]
  },
  {
   "cell_type": "code",
   "execution_count": 58,
   "metadata": {},
   "outputs": [],
   "source": [
    "# In each of dataframes, select only the data for survey respondents who have a Resignation separation type.\n",
    "# Remember that the dete_survey_updated dataframe contains three Resignation separation types. We want to select all of them.\n",
    "# Use the DataFrame.copy() method on the result to avoid the SettingWithCopy Warning.\n",
    "# Assign the result for dete_survey_updated to dete_resignations.\n",
    "# Assign the result for tafe_survey_updated to tafe_resignations.\n",
    "\n",
    "dete_resignations=dete_survey_updated[dete_survey_updated['separationtype']=='Resignation'].copy()\n",
    "tafe_resignations=tafe_survey_updated[tafe_survey_updated['separationtype']=='Resignation'].copy()"
   ]
  },
  {
   "cell_type": "code",
   "execution_count": 59,
   "metadata": {},
   "outputs": [],
   "source": [
    "# Check the years in each dataframe for logical inconsistencies.\n",
    "# First, clean the cease_date column in dete_resignations.\n",
    "# Use the Series.value_counts() method to view the unique values in the cease_date column.\n",
    "# Use vectorized string methods to extract the year. As a reminder, here is the full list.\n",
    "# Use the Series.astype() method method to convert the type to a float.\n",
    "\n",
    "dete_resignations['cease_date']=dete_resignations['cease_date'].str.split('/').str[-1]\n",
    "dete_resignations['cease_date']=dete_resignations['cease_date'].astype('float')"
   ]
  },
  {
   "cell_type": "code",
   "execution_count": 60,
   "metadata": {},
   "outputs": [
    {
     "data": {
      "text/plain": [
       "2013.0    146\n",
       "2012.0    129\n",
       "2014.0     22\n",
       "2010.0      2\n",
       "2006.0      1\n",
       "Name: cease_date, dtype: int64"
      ]
     },
     "execution_count": 60,
     "metadata": {},
     "output_type": "execute_result"
    }
   ],
   "source": [
    "# Use the Series.value_counts() to check the values in the cease_date and dete_start_date columns in dete_resignations and the cease_date column in tafe_resignations.\n",
    "# Because Series.value_counts() returns a series, we can use Series.sort_index() method with ascending= True or False to view the highest and lowest values with their counts.\n",
    "# You can also plot the values of any numeric columns with a boxplot to identify any values that look wrong.\n",
    "\n",
    "dete_resignations['cease_date'].value_counts()"
   ]
  },
  {
   "cell_type": "code",
   "execution_count": 61,
   "metadata": {},
   "outputs": [
    {
     "data": {
      "text/plain": [
       "1963.0     1\n",
       "1971.0     1\n",
       "1972.0     1\n",
       "1984.0     1\n",
       "1977.0     1\n",
       "1987.0     1\n",
       "1975.0     1\n",
       "1973.0     1\n",
       "1982.0     1\n",
       "1974.0     2\n",
       "1983.0     2\n",
       "1976.0     2\n",
       "1986.0     3\n",
       "1985.0     3\n",
       "2001.0     3\n",
       "1995.0     4\n",
       "1988.0     4\n",
       "1989.0     4\n",
       "1991.0     4\n",
       "1997.0     5\n",
       "1980.0     5\n",
       "1993.0     5\n",
       "1990.0     5\n",
       "1994.0     6\n",
       "2003.0     6\n",
       "1998.0     6\n",
       "1992.0     6\n",
       "2002.0     6\n",
       "1996.0     6\n",
       "1999.0     8\n",
       "2000.0     9\n",
       "2013.0    10\n",
       "2009.0    13\n",
       "2006.0    13\n",
       "2004.0    14\n",
       "2005.0    15\n",
       "2010.0    17\n",
       "2012.0    21\n",
       "2007.0    21\n",
       "2008.0    22\n",
       "2011.0    24\n",
       "Name: dete_start_date, dtype: int64"
      ]
     },
     "execution_count": 61,
     "metadata": {},
     "output_type": "execute_result"
    }
   ],
   "source": [
    "dete_resignations['dete_start_date'].value_counts().sort_values()"
   ]
  },
  {
   "cell_type": "code",
   "execution_count": 62,
   "metadata": {
    "scrolled": true
   },
   "outputs": [
    {
     "data": {
      "text/plain": [
       "2009.0      2\n",
       "2013.0     55\n",
       "2010.0     68\n",
       "2012.0     94\n",
       "2011.0    116\n",
       "Name: cease_date, dtype: int64"
      ]
     },
     "execution_count": 62,
     "metadata": {},
     "output_type": "execute_result"
    }
   ],
   "source": [
    "tafe_resignations['cease_date'].value_counts().sort_values()"
   ]
  },
  {
   "cell_type": "code",
   "execution_count": 63,
   "metadata": {},
   "outputs": [],
   "source": [
    "# The years in both dataframes don't completely align:\n",
    "\n",
    "#     The tafe_survey_updated dataframe contains some cease dates in 2009\n",
    "\n",
    "#     The dete_survey_updated dataframe does not.\n",
    "\n",
    "#     The tafe_survey_updated dataframe also contains many more cease dates in 2010 than the dete_survey_updated dataframe.\n",
    "\n",
    "#     Since we aren't concerned with analyzing the results by year, we'll leave them as is.\n"
   ]
  },
  {
   "cell_type": "code",
   "execution_count": 64,
   "metadata": {},
   "outputs": [
    {
     "data": {
      "text/plain": [
       "3      7.0\n",
       "5     18.0\n",
       "8      3.0\n",
       "9     15.0\n",
       "11     3.0\n",
       "Name: institute_service, dtype: float64"
      ]
     },
     "execution_count": 64,
     "metadata": {},
     "output_type": "execute_result"
    }
   ],
   "source": [
    "# Create an institute_service column in dete_resignations\n",
    "# Create a new column named institute_service in dete_resignations.\n",
    "# Subtract the dete_start_date from the cease_date. Assign the result to a new column named institute_service.\n",
    "\n",
    "dete_resignations['institute_service']=dete_resignations['cease_date']-dete_resignations['dete_start_date']\n",
    "dete_resignations['institute_service'].head()"
   ]
  },
  {
   "cell_type": "code",
   "execution_count": 65,
   "metadata": {},
   "outputs": [
    {
     "data": {
      "text/plain": [
       "-                                         277\n",
       "Contributing Factors. Dissatisfaction      55\n",
       "Name: Contributing Factors. Dissatisfaction, dtype: int64"
      ]
     },
     "execution_count": 65,
     "metadata": {},
     "output_type": "execute_result"
    }
   ],
   "source": [
    "# Use the Series.value_counts() method to view the values in the 'Contributing Factors. Dissatisfaction' and 'Contributing Factors. Job Dissatisfaction' in the tafe_resignations dataframe.\n",
    "\n",
    "tafe_resignations['Contributing Factors. Dissatisfaction'].value_counts()"
   ]
  },
  {
   "cell_type": "code",
   "execution_count": 66,
   "metadata": {},
   "outputs": [
    {
     "data": {
      "text/plain": [
       "-                      270\n",
       "Job Dissatisfaction     62\n",
       "Name: Contributing Factors. Job Dissatisfaction, dtype: int64"
      ]
     },
     "execution_count": 66,
     "metadata": {},
     "output_type": "execute_result"
    }
   ],
   "source": [
    "# Use the Series.value_counts() method to view the values in the 'Contributing Factors. Dissatisfaction' and 'Contributing Factors. Job Dissatisfaction' in the tafe_resignations dataframe.\n",
    "\n",
    "tafe_resignations['Contributing Factors. Job Dissatisfaction'].value_counts()"
   ]
  },
  {
   "cell_type": "code",
   "execution_count": 67,
   "metadata": {},
   "outputs": [],
   "source": [
    "# Update the values in the 'Contributing Factors. Dissatisfaction' and 'Contributing Factors. Job Dissatisfaction' in the tafe_resignations dataframe so that each contains only True, False, or NaN values.\n",
    "# Write a function named update_vals that makes the following changes:\n",
    "# If the value is NaN, return np.nan. You can use the following criteria to check that a value is NaN: pd.isnull(val).\n",
    "# If the value is '-', return False.\n",
    "# For any other value, return True.\n",
    "\n",
    "def update_vals(x):\n",
    "    if x == '-':\n",
    "        return False\n",
    "    elif pd.isnull(x):\n",
    "        return np.nan\n",
    "    else:\n",
    "        return True"
   ]
  },
  {
   "cell_type": "code",
   "execution_count": 68,
   "metadata": {},
   "outputs": [
    {
     "data": {
      "text/plain": [
       "False    241\n",
       "True      91\n",
       "NaN        8\n",
       "Name: dissatisfied, dtype: int64"
      ]
     },
     "execution_count": 68,
     "metadata": {},
     "output_type": "execute_result"
    }
   ],
   "source": [
    "# Use the DataFrame.applymap() method to apply the function above to the 'Contributing Factors. Dissatisfaction' and 'Contributing Factors. Job Dissatisfaction' in the tafe_resignations dataframe.\n",
    "# Remember that we need to pass the update_vals function into the df.applymap() method without parentheses.\n",
    "\n",
    "# Use the df.any() method as described above to create a dissatisfied column in BOTH the tafe_resignations and dete_resignations dataframes.\n",
    "\n",
    "tafe_resignations['dissatisfied'] = tafe_resignations[['Contributing Factors. Dissatisfaction', 'Contributing Factors. Job Dissatisfaction']].applymap(update_vals).any(1, skipna=False)\n",
    "\n",
    "# Use the df.copy() method to create a copy of the results and avoid the SettingWithCopy Warning. Assign the results to dete_resignations_up and tafe_resignations_up.\n",
    "\n",
    "tafe_resignations_up = tafe_resignations.copy()\n",
    "tafe_resignations_up['dissatisfied'].value_counts(dropna=False)"
   ]
  },
  {
   "cell_type": "code",
   "execution_count": 69,
   "metadata": {},
   "outputs": [
    {
     "data": {
      "text/plain": [
       "False    162\n",
       "True     149\n",
       "Name: dissatisfied, dtype: int64"
      ]
     },
     "execution_count": 69,
     "metadata": {},
     "output_type": "execute_result"
    }
   ],
   "source": [
    "dete_resignations['dissatisfied'] = dete_resignations[['job_dissatisfaction',\n",
    "       'dissatisfaction_with_the_department', 'physical_work_environment',\n",
    "       'lack_of_recognition', 'lack_of_job_security', 'work_location',\n",
    "       'employment_conditions', 'work_life_balance',\n",
    "       'workload']].any(1, skipna=False)\n",
    "\n",
    "dete_resignations_up = dete_resignations.copy()\n",
    "\n",
    "dete_resignations_up['dissatisfied'].value_counts(dropna=False)"
   ]
  },
  {
   "cell_type": "code",
   "execution_count": 70,
   "metadata": {},
   "outputs": [],
   "source": [
    "# Below, we'll add an institute column so that we can differentiate the data from each survey after we combine them. Then, we'll combine the dataframes and drop any remaining columns we don't need."
   ]
  },
  {
   "cell_type": "code",
   "execution_count": 71,
   "metadata": {},
   "outputs": [],
   "source": [
    "# First, let's add a column to each dataframe that will allow us to easily distinguish between the two.\n",
    "# Add a column named institute to dete_resignations_up. Each row should contain the value DETE.\n",
    "# Add a column named institute to tafe_resignations_up. Each row should contain the value TAFE.\n",
    "\n",
    "dete_resignations_up['institute']='DETE'\n",
    "tafe_resignations_up['institute']='TAFE'"
   ]
  },
  {
   "cell_type": "code",
   "execution_count": 72,
   "metadata": {},
   "outputs": [],
   "source": [
    "# Combine the dataframes. Assign the result to combined.\n",
    "\n",
    "combined=pd.concat([dete_resignations_up, tafe_resignations_up], ignore_index=True)"
   ]
  },
  {
   "cell_type": "code",
   "execution_count": 73,
   "metadata": {},
   "outputs": [],
   "source": [
    "# Recall that we still have some columns left in the dataframe that we don't need to complete our analysis. Use the DataFrame.dropna() method to drop any columns with less than 500 non null values.\n",
    "# Remember that you can drop columns with less than a certain number of non null values with the thresh parameter.\n",
    "# Assign the result to combined_updated.\n",
    "\n",
    "combined_updated=combined.dropna(thresh=500, axis=1).copy()"
   ]
  },
  {
   "cell_type": "code",
   "execution_count": 74,
   "metadata": {},
   "outputs": [],
   "source": [
    "# Next, we'll clean the institute_service column and categorize employees according to the following definitions:\n",
    "\n",
    "#     New: Less than 3 years in the workplace\n",
    "#     Experienced: 3-6 years in the workplace\n",
    "#     Established: 7-10 years in the workplace\n",
    "#     Veteran: 11 or more years in the workplace\n",
    "\n",
    "# Our analysis is based on this article, which makes the argument that understanding employee's needs according to career stage instead of age is more effective."
   ]
  },
  {
   "cell_type": "code",
   "execution_count": 75,
   "metadata": {},
   "outputs": [
    {
     "data": {
      "text/plain": [
       "1.0     159\n",
       "3.0      83\n",
       "5.0      56\n",
       "7.0      34\n",
       "11.0     30\n",
       "0.0      20\n",
       "20.0     17\n",
       "6.0      17\n",
       "4.0      16\n",
       "9.0      14\n",
       "2.0      14\n",
       "13.0      8\n",
       "8.0       8\n",
       "15.0      7\n",
       "17.0      6\n",
       "10.0      6\n",
       "12.0      6\n",
       "14.0      6\n",
       "22.0      6\n",
       "16.0      5\n",
       "18.0      5\n",
       "24.0      4\n",
       "23.0      4\n",
       "39.0      3\n",
       "19.0      3\n",
       "21.0      3\n",
       "32.0      3\n",
       "28.0      2\n",
       "36.0      2\n",
       "25.0      2\n",
       "30.0      2\n",
       "26.0      2\n",
       "29.0      1\n",
       "38.0      1\n",
       "42.0      1\n",
       "27.0      1\n",
       "41.0      1\n",
       "35.0      1\n",
       "49.0      1\n",
       "34.0      1\n",
       "33.0      1\n",
       "31.0      1\n",
       "Name: institute_service_up, dtype: int64"
      ]
     },
     "execution_count": 75,
     "metadata": {},
     "output_type": "execute_result"
    }
   ],
   "source": [
    "# First, we'll extract the years of service from each value in the institute_service column.\n",
    "# Use the Series.astype() method to change the type to 'str'.\n",
    "# Use vectorized string methods to extract the years of service from each pattern. You can find the full list of vectorized string methods here.\n",
    "# Double check that you didn't miss extracting any digits.\n",
    "# Use the Series.astype() method to change the type to 'float'.\n",
    "\n",
    "combined_updated['institute_service'].value_counts(dropna=False)\n",
    "combined_updated['institute_service_up']=combined_updated['institute_service'].astype('str').str.extract(r'(\\d+)')\n",
    "combined_updated['institute_service_up'] = combined_updated['institute_service_up'].astype('float')\n",
    "combined_updated['institute_service_up'].value_counts()"
   ]
  },
  {
   "cell_type": "code",
   "execution_count": 76,
   "metadata": {},
   "outputs": [],
   "source": [
    "# Next, we'll map each value to one of the career stage definitions above.\n",
    "# Create a function that maps each year value to one of the career stages above.\n",
    "# Remember that you'll have to handle missing values separately. You can use the following code to check if a value is NaN where val is the name of the value: pd.isnull(val).\n",
    "\n",
    "def transform_service(val):\n",
    "    if val >= 11:\n",
    "        return \"Veteran\"\n",
    "    elif 7 <= val < 11:\n",
    "        return \"Established\"\n",
    "    elif 3 <= val < 7:\n",
    "        return \"Experienced\"\n",
    "    elif pd.isnull(val):\n",
    "        return np.nan\n",
    "    else:\n",
    "        return \"New\""
   ]
  },
  {
   "cell_type": "code",
   "execution_count": 77,
   "metadata": {},
   "outputs": [
    {
     "data": {
      "text/plain": [
       "New            193\n",
       "Experienced    172\n",
       "Veteran        136\n",
       "Established     62\n",
       "Name: service_cat, dtype: int64"
      ]
     },
     "execution_count": 77,
     "metadata": {},
     "output_type": "execute_result"
    }
   ],
   "source": [
    "# Use the Series.apply() method to apply the function to the institute_service column. Assign the result to a new column named service_cat.\n",
    "\n",
    "combined_updated['service_cat'] = combined_updated['institute_service_up'].apply(transform_service)\n",
    "combined_updated['service_cat'].value_counts()"
   ]
  },
  {
   "cell_type": "code",
   "execution_count": 78,
   "metadata": {},
   "outputs": [],
   "source": [
    "# Finally, we'll replace the missing values in the dissatisfied column with the most frequent value, False. Then, we'll calculate the percentage of employees who resigned due to dissatisfaction in each service_cat group and plot the results.\n",
    "\n",
    "# Note that since we still have additional missing values left to deal with, this is meant to be an initial introduction to the analysis, not the final analysis."
   ]
  },
  {
   "cell_type": "code",
   "execution_count": 79,
   "metadata": {},
   "outputs": [
    {
     "data": {
      "text/plain": [
       "False    403\n",
       "True     240\n",
       "NaN        8\n",
       "Name: dissatisfied, dtype: int64"
      ]
     },
     "execution_count": 79,
     "metadata": {},
     "output_type": "execute_result"
    }
   ],
   "source": [
    "# Use the Series.value_counts() method to confirm if the number of True and False in the dissatisfied column. Set the dropna parameter to False to also confirm the number of missing values.\n",
    "\n",
    "combined_updated['dissatisfied'].value_counts(dropna=False)"
   ]
  },
  {
   "cell_type": "code",
   "execution_count": 80,
   "metadata": {},
   "outputs": [],
   "source": [
    "# Use the DataFrame.fillna() method to replace the missing values in the dissatisfied column with the value that occurs most frequently in this column, either True or False.\n",
    "\n",
    "combined_updated['dissatisfied'] = combined_updated['dissatisfied'].fillna(False)"
   ]
  },
  {
   "cell_type": "code",
   "execution_count": 81,
   "metadata": {},
   "outputs": [],
   "source": [
    "# Use the DataFrame.pivot_table() method to calculate the percentage of dissatisfied employees in each service_cat group.\n",
    "# Since a True value is considered to be 1, calculating the mean will also calculate the percentage of dissatisfied employees. The default aggregation function is the mean, so you can exclude the aggfunc argument.\n",
    "\n",
    "dis_pct = combined_updated.pivot_table(index='service_cat', values='dissatisfied')"
   ]
  },
  {
   "cell_type": "code",
   "execution_count": 83,
   "metadata": {},
   "outputs": [
    {
     "data": {
      "text/plain": [
       "<matplotlib.axes._subplots.AxesSubplot at 0x7f1bf53b2f40>"
      ]
     },
     "execution_count": 83,
     "metadata": {},
     "output_type": "execute_result"
    },
    {
     "data": {
      "image/png": "[encoded data removed]",
      "text/plain": [
       "<Figure size 600x400 with 1 Axes>"
      ]
     },
     "metadata": {},
     "output_type": "display_data"
    }
   ],
   "source": [
    "# Use the DataFrame.plot() method to plot the results. Set the kind parameter equal to bar to create a bar chart.\n",
    "%matplotlib inline\n",
    "\n",
    "dis_pct.plot(kind='bar', rot=30)"
   ]
  },
  {
   "cell_type": "code",
   "execution_count": 84,
   "metadata": {},
   "outputs": [
    {
     "data": {
      "text/html": [
       "<div>\n",
       "<style scoped>\n",
       "    .dataframe tbody tr th:only-of-type {\n",
       "        vertical-align: middle;\n",
       "    }\n",
       "\n",
       "    .dataframe tbody tr th {\n",
       "        vertical-align: top;\n",
       "    }\n",
       "\n",
       "    .dataframe thead th {\n",
       "        text-align: right;\n",
       "    }\n",
       "</style>\n",
       "<table border=\"1\" class=\"dataframe\">\n",
       "  <thead>\n",
       "    <tr style=\"text-align: right;\">\n",
       "      <th></th>\n",
       "      <th>dissatisfied</th>\n",
       "    </tr>\n",
       "    <tr>\n",
       "      <th>service_cat</th>\n",
       "      <th></th>\n",
       "    </tr>\n",
       "  </thead>\n",
       "  <tbody>\n",
       "    <tr>\n",
       "      <th>New</th>\n",
       "      <td>0.295337</td>\n",
       "    </tr>\n",
       "    <tr>\n",
       "      <th>Experienced</th>\n",
       "      <td>0.343023</td>\n",
       "    </tr>\n",
       "    <tr>\n",
       "      <th>Veteran</th>\n",
       "      <td>0.485294</td>\n",
       "    </tr>\n",
       "    <tr>\n",
       "      <th>Established</th>\n",
       "      <td>0.516129</td>\n",
       "    </tr>\n",
       "  </tbody>\n",
       "</table>\n",
       "</div>"
      ],
      "text/plain": [
       "             dissatisfied\n",
       "service_cat              \n",
       "New              0.295337\n",
       "Experienced      0.343023\n",
       "Veteran          0.485294\n",
       "Established      0.516129"
      ]
     },
     "execution_count": 84,
     "metadata": {},
     "output_type": "execute_result"
    }
   ],
   "source": [
    "dissatisfied_pivot = combined_updated.pivot_table(index='service_cat', values='dissatisfied')\n",
    "dissatisfied_pivot = dissatisfied_pivot.sort_values('dissatisfied')\n",
    "dissatisfied_pivot"
   ]
  },
  {
   "cell_type": "code",
   "execution_count": 85,
   "metadata": {},
   "outputs": [
    {
     "data": {
      "text/plain": [
       "<matplotlib.axes._subplots.AxesSubplot at 0x7f1bf4c7f700>"
      ]
     },
     "execution_count": 85,
     "metadata": {},
     "output_type": "execute_result"
    },
    {
     "data": {
      "image/png": "[encoded data removed]",
      "text/plain": [
       "<Figure size 600x400 with 1 Axes>"
      ]
     },
     "metadata": {},
     "output_type": "display_data"
    }
   ],
   "source": [
    "import matplotlib.style as style\n",
    "style.use('fivethirtyeight')\n",
    "dissatisfied_pivot.plot(kind='bar', rot =0)"
   ]
  },
  {
   "cell_type": "code",
   "execution_count": 86,
   "metadata": {},
   "outputs": [
    {
     "data": {
      "text/plain": [
       "<matplotlib.axes._subplots.AxesSubplot at 0x7f1bf48bc6d0>"
      ]
     },
     "execution_count": 86,
     "metadata": {},
     "output_type": "execute_result"
    },
    {
     "data": {
      "image/png": "[encoded data removed]",
      "text/plain": [
       "<Figure size 600x400 with 1 Axes>"
      ]
     },
     "metadata": {},
     "output_type": "display_data"
    }
   ],
   "source": [
    "dete_resignations[['dete_start_date', 'cease_date']].boxplot()"
   ]
  },
  {
   "cell_type": "code",
   "execution_count": 87,
   "metadata": {},
   "outputs": [],
   "source": [
    "# Findings\n",
    "\n",
    "# From the initial analysis above, we can tentatively conclude that employees with 7 or more years of service are more likely to resign due to some kind of dissatisfaction with the job than employees with less than 7 years of service. However, we need to handle the rest of the missing data to finalize our analysis."
   ]
  },
  {
   "cell_type": "markdown",
   "metadata": {},
   "source": [
    "## Employee Dissatisfaction by Age\n",
    "\n",
    "We'll go about attempting to answer the question of whether younger or older employees are more likely to cite dissatisfaction as a reason for leaving.\n",
    "\n",
    "First, the Age column will have to be cleaned.\n"
   ]
  },
  {
   "cell_type": "code",
   "execution_count": 88,
   "metadata": {},
   "outputs": [
    {
     "data": {
      "text/plain": [
       "51-55            71\n",
       "NaN              55\n",
       "41-45            48\n",
       "41  45           45\n",
       "46-50            42\n",
       "36-40            41\n",
       "46  50           39\n",
       "26-30            35\n",
       "21  25           33\n",
       "31  35           32\n",
       "36  40           32\n",
       "26  30           32\n",
       "56 or older      29\n",
       "31-35            29\n",
       "21-25            29\n",
       "56-60            26\n",
       "61 or older      23\n",
       "20 or younger    10\n",
       "Name: age, dtype: int64"
      ]
     },
     "execution_count": 88,
     "metadata": {},
     "output_type": "execute_result"
    }
   ],
   "source": [
    "combined_updated['age'].value_counts(dropna = False)"
   ]
  },
  {
   "cell_type": "markdown",
   "metadata": {},
   "source": [
    "## Define a function to map a person's age into a group\n",
    "\n",
    "In a similar vein as the categorizing of career stage that was done before, we'll define a function that maps out a person's age into age groups:\n",
    "\n",
    "    21 or less\n",
    "    21-25\n",
    "    26-30\n",
    "    31-35\n",
    "    36-40\n",
    "    41-50\n",
    "    51-60\n",
    "    Above 60\n",
    "\n",
    "Since the missing values here can't be filled to a specific value (since they would skew that age category a lot), they will simply be ignored.\n",
    "\n",
    "A significant amount of data is not being lost as the missing age values only make up about 10% of the total amount of values.\n"
   ]
  },
  {
   "cell_type": "markdown",
   "metadata": {},
   "source": [
    "## Employee Dissatisfaction by Institute\n",
    "\n",
    "It's worth attempting to figure out whether the difference in dissatisfaction rates between the two initial datasets, tafe_survey and dete_survey is significant.\n",
    "\n",
    "Since we already have an institute column, this will be very straightforward to figure out."
   ]
  },
  {
   "cell_type": "code",
   "execution_count": 94,
   "metadata": {},
   "outputs": [
    {
     "data": {
      "text/plain": [
       "<matplotlib.axes._subplots.AxesSubplot at 0x7f1bf538fac0>"
      ]
     },
     "execution_count": 94,
     "metadata": {},
     "output_type": "execute_result"
    },
    {
     "data": {
      "image/png": "[encoded data removed]",
      "text/plain": [
       "<Figure size 600x400 with 1 Axes>"
      ]
     },
     "metadata": {},
     "output_type": "display_data"
    }
   ],
   "source": [
    "dissatisfied_institute = (combined_updated.\n",
    "                          pivot_table(index='institute',\n",
    "                                      values = 'dissatisfied'))\n",
    "\n",
    "dissatisfied_institute.plot(kind='bar', rot = 0)"
   ]
  },
  {
   "cell_type": "markdown",
   "metadata": {},
   "source": [
    "## Findings\n",
    "\n",
    "We notice that, at first glance, there appears to be a remarkable difference in the reported dissatisfaction rates of employees from the DETE and the TAFE firms.\n",
    "\n",
    "However, there is a very easy explanation for this discrepancy.\n",
    "\n",
    "Recall that there were several more columns from the dete survey forms that corresponded to employee dissatisfaction. The columns we used to measure dissatisfaction from each dataset were the following:\n",
    "\n",
    "tafe_resignations:\n",
    "\n",
    "    Contributing Factors. Dissatisfaction\n",
    "    Contributing Factors. Job Dissatisfaction\n",
    "\n",
    "dete_resignations:\n",
    "\n",
    "    job_dissatisfaction\n",
    "    dissatisfaction_with_the_department\n",
    "    physical_work_environment\n",
    "    lack_of_recognition\n",
    "    lack_of_job_security\n",
    "    work_location\n",
    "    employment_conditions\n",
    "    work_life_balance\n",
    "    workload\n",
    "\n",
    "The observed increased dissatisfaction results in the DETE survey results could be explained by the fact that there were more options to choose from.\n"
   ]
  }
 ],
 "metadata": {
  "kernelspec": {
   "display_name": "Python 3",
   "language": "python",
   "name": "python3"
  },
  "language_info": {
   "codemirror_mode": {
    "name": "ipython",
    "version": 3
   },
   "file_extension": ".py",
   "mimetype": "text/x-python",
   "name": "python",
   "nbconvert_exporter": "python",
   "pygments_lexer": "ipython3",
   "version": "3.8.5"
  }
 },
 "nbformat": 4,
 "nbformat_minor": 4
}
