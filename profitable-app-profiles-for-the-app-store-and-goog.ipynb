{
 "cells": [
  {
   "cell_type": "markdown",
   "metadata": {
    "papermill": {
     "duration": 0.015291,
     "end_time": "2021-03-04T06:16:46.776348",
     "exception": false,
     "start_time": "2021-03-04T06:16:46.761057",
     "status": "completed"
    },
    "tags": []
   },
   "source": [
    "# Profitable App Profiles for the App Store and Google Play Markets\n",
    "\n",
    "Our aim in this project is to find mobile app profiles that are profitable for the App Store and Google Play markets. We're working as data analysts for a company that builds Android and iOS mobile apps, and our job is to enable our team of developers to make data-driven decisions with respect to the kind of apps they build."
   ]
  },
  {
   "cell_type": "code",
   "execution_count": 1,
   "metadata": {
    "papermill": {
     "duration": 0.048975,
     "end_time": "2021-03-04T06:16:46.839833",
     "exception": false,
     "start_time": "2021-03-04T06:16:46.790858",
     "status": "completed"
    },
    "tags": []
   },
   "outputs": [
    {
     "ename": "UnicodeDecodeError",
     "evalue": "'charmap' codec can't decode byte 0x90 in position 2755: character maps to <undefined>",
     "output_type": "error",
     "traceback": [
      "\u001b[1;31m---------------------------------------------------------------------------\u001b[0m",
      "\u001b[1;31mUnicodeDecodeError\u001b[0m                        Traceback (most recent call last)",
      "\u001b[1;32m<ipython-input-1-c9a7561d07b2>\u001b[0m in \u001b[0;36m<module>\u001b[1;34m\u001b[0m\n\u001b[0;32m      4\u001b[0m \u001b[0mopened_file\u001b[0m \u001b[1;33m=\u001b[0m \u001b[0mopen\u001b[0m\u001b[1;33m(\u001b[0m\u001b[1;34m'googleplaystore.csv'\u001b[0m\u001b[1;33m)\u001b[0m\u001b[1;33m\u001b[0m\u001b[1;33m\u001b[0m\u001b[0m\n\u001b[0;32m      5\u001b[0m \u001b[0mread_file\u001b[0m \u001b[1;33m=\u001b[0m \u001b[0mreader\u001b[0m\u001b[1;33m(\u001b[0m\u001b[0mopened_file\u001b[0m\u001b[1;33m)\u001b[0m\u001b[1;33m\u001b[0m\u001b[1;33m\u001b[0m\u001b[0m\n\u001b[1;32m----> 6\u001b[1;33m \u001b[0mandroid\u001b[0m \u001b[1;33m=\u001b[0m \u001b[0mlist\u001b[0m\u001b[1;33m(\u001b[0m\u001b[0mread_file\u001b[0m\u001b[1;33m)\u001b[0m\u001b[1;33m\u001b[0m\u001b[1;33m\u001b[0m\u001b[0m\n\u001b[0m\u001b[0;32m      7\u001b[0m \u001b[0mandroid_header\u001b[0m \u001b[1;33m=\u001b[0m \u001b[0mandroid\u001b[0m\u001b[1;33m[\u001b[0m\u001b[1;36m0\u001b[0m\u001b[1;33m]\u001b[0m\u001b[1;33m\u001b[0m\u001b[1;33m\u001b[0m\u001b[0m\n\u001b[0;32m      8\u001b[0m \u001b[0mandroid\u001b[0m \u001b[1;33m=\u001b[0m \u001b[0mandroid\u001b[0m\u001b[1;33m[\u001b[0m\u001b[1;36m1\u001b[0m\u001b[1;33m:\u001b[0m\u001b[1;33m]\u001b[0m\u001b[1;33m\u001b[0m\u001b[1;33m\u001b[0m\u001b[0m\n",
      "\u001b[1;32m~\\anaconda3\\lib\\encodings\\cp1252.py\u001b[0m in \u001b[0;36mdecode\u001b[1;34m(self, input, final)\u001b[0m\n\u001b[0;32m     21\u001b[0m \u001b[1;32mclass\u001b[0m \u001b[0mIncrementalDecoder\u001b[0m\u001b[1;33m(\u001b[0m\u001b[0mcodecs\u001b[0m\u001b[1;33m.\u001b[0m\u001b[0mIncrementalDecoder\u001b[0m\u001b[1;33m)\u001b[0m\u001b[1;33m:\u001b[0m\u001b[1;33m\u001b[0m\u001b[1;33m\u001b[0m\u001b[0m\n\u001b[0;32m     22\u001b[0m     \u001b[1;32mdef\u001b[0m \u001b[0mdecode\u001b[0m\u001b[1;33m(\u001b[0m\u001b[0mself\u001b[0m\u001b[1;33m,\u001b[0m \u001b[0minput\u001b[0m\u001b[1;33m,\u001b[0m \u001b[0mfinal\u001b[0m\u001b[1;33m=\u001b[0m\u001b[1;32mFalse\u001b[0m\u001b[1;33m)\u001b[0m\u001b[1;33m:\u001b[0m\u001b[1;33m\u001b[0m\u001b[1;33m\u001b[0m\u001b[0m\n\u001b[1;32m---> 23\u001b[1;33m         \u001b[1;32mreturn\u001b[0m \u001b[0mcodecs\u001b[0m\u001b[1;33m.\u001b[0m\u001b[0mcharmap_decode\u001b[0m\u001b[1;33m(\u001b[0m\u001b[0minput\u001b[0m\u001b[1;33m,\u001b[0m\u001b[0mself\u001b[0m\u001b[1;33m.\u001b[0m\u001b[0merrors\u001b[0m\u001b[1;33m,\u001b[0m\u001b[0mdecoding_table\u001b[0m\u001b[1;33m)\u001b[0m\u001b[1;33m[\u001b[0m\u001b[1;36m0\u001b[0m\u001b[1;33m]\u001b[0m\u001b[1;33m\u001b[0m\u001b[1;33m\u001b[0m\u001b[0m\n\u001b[0m\u001b[0;32m     24\u001b[0m \u001b[1;33m\u001b[0m\u001b[0m\n\u001b[0;32m     25\u001b[0m \u001b[1;32mclass\u001b[0m \u001b[0mStreamWriter\u001b[0m\u001b[1;33m(\u001b[0m\u001b[0mCodec\u001b[0m\u001b[1;33m,\u001b[0m\u001b[0mcodecs\u001b[0m\u001b[1;33m.\u001b[0m\u001b[0mStreamWriter\u001b[0m\u001b[1;33m)\u001b[0m\u001b[1;33m:\u001b[0m\u001b[1;33m\u001b[0m\u001b[1;33m\u001b[0m\u001b[0m\n",
      "\u001b[1;31mUnicodeDecodeError\u001b[0m: 'charmap' codec can't decode byte 0x90 in position 2755: character maps to <undefined>"
     ]
    }
   ],
   "source": [
    "from csv import reader\n",
    "### The App Store data set ###\n",
    "### The Google Play data set ###\n",
    "opened_file = open('googleplaystore.csv')\n",
    "read_file = reader(opened_file)\n",
    "android = list(read_file)\n",
    "android_header = android[0]\n",
    "android = android[1:]\n",
    "\n",
    "opened_file = open('AppleStore.csv')\n",
    "read_file = reader(opened_file)\n",
    "ios = list(read_file)\n",
    "ios_header = ios[0]\n",
    "ios = ios[1:]"
   ]
  },
  {
   "cell_type": "code",
   "execution_count": 6,
   "metadata": {
    "execution": {
     "iopub.execute_input": "2021-03-04T06:16:46.875966Z",
     "iopub.status.busy": "2021-03-04T06:16:46.875265Z",
     "iopub.status.idle": "2021-03-04T06:16:46.878211Z",
     "shell.execute_reply": "2021-03-04T06:16:46.877753Z"
    },
    "papermill": {
     "duration": 0.023027,
     "end_time": "2021-03-04T06:16:46.878341",
     "exception": false,
     "start_time": "2021-03-04T06:16:46.855314",
     "status": "completed"
    },
    "tags": []
   },
   "outputs": [],
   "source": [
    "def explore_data(dataset, start, end, rows_and_columns=False):\n",
    "    dataset_slice = dataset[start:end]\n",
    "    for row in dataset_slice:\n",
    "        print(row)\n",
    "        print('\\n') # adds a new (empty) line after each row\n",
    "\n",
    "    if rows_and_columns:\n",
    "        print('Number of rows:', len(dataset))\n",
    "        print('Number of columns:', len(dataset[0]))"
   ]
  },
  {
   "cell_type": "code",
   "execution_count": null,
   "metadata": {
    "execution": {
     "iopub.execute_input": "2021-03-04T06:16:46.911662Z",
     "iopub.status.busy": "2021-03-04T06:16:46.910716Z",
     "iopub.status.idle": "2021-03-04T06:16:46.922231Z",
     "shell.execute_reply": "2021-03-04T06:16:46.922717Z"
    },
    "papermill": {
     "duration": 0.029752,
     "end_time": "2021-03-04T06:16:46.922889",
     "exception": false,
     "start_time": "2021-03-04T06:16:46.893137",
     "status": "completed"
    },
    "tags": []
   },
   "outputs": [],
   "source": [
    "print(ios_header)\n",
    "print('\\n')\n",
    "\n",
    "explore_data(ios,0,5,True)"
   ]
  },
  {
   "cell_type": "code",
   "execution_count": null,
   "metadata": {
    "execution": {
     "iopub.execute_input": "2021-03-04T06:16:46.957919Z",
     "iopub.status.busy": "2021-03-04T06:16:46.956985Z",
     "iopub.status.idle": "2021-03-04T06:16:46.969080Z",
     "shell.execute_reply": "2021-03-04T06:16:46.969560Z"
    },
    "papermill": {
     "duration": 0.030855,
     "end_time": "2021-03-04T06:16:46.969744",
     "exception": false,
     "start_time": "2021-03-04T06:16:46.938889",
     "status": "completed"
    },
    "tags": []
   },
   "outputs": [],
   "source": [
    "print(android_header)\n",
    "print('\\n')\n",
    "\n",
    "explore_data(android,0,5,True)"
   ]
  },
  {
   "cell_type": "markdown",
   "metadata": {
    "papermill": {
     "duration": 0.01666,
     "end_time": "2021-03-04T06:16:47.001751",
     "exception": false,
     "start_time": "2021-03-04T06:16:46.985091",
     "status": "completed"
    },
    "tags": []
   },
   "source": [
    "# Deleting Wrong Data"
   ]
  },
  {
   "cell_type": "code",
   "execution_count": null,
   "metadata": {
    "execution": {
     "iopub.execute_input": "2021-03-04T06:16:47.036871Z",
     "iopub.status.busy": "2021-03-04T06:16:47.035818Z",
     "iopub.status.idle": "2021-03-04T06:16:47.047019Z",
     "shell.execute_reply": "2021-03-04T06:16:47.047493Z"
    },
    "papermill": {
     "duration": 0.030427,
     "end_time": "2021-03-04T06:16:47.047665",
     "exception": false,
     "start_time": "2021-03-04T06:16:47.017238",
     "status": "completed"
    },
    "tags": []
   },
   "outputs": [],
   "source": [
    "print(android_header)\n",
    "print('\\n')\n",
    "print(android[10472])"
   ]
  },
  {
   "cell_type": "code",
   "execution_count": null,
   "metadata": {
    "execution": {
     "iopub.execute_input": "2021-03-04T06:16:47.083922Z",
     "iopub.status.busy": "2021-03-04T06:16:47.083277Z",
     "iopub.status.idle": "2021-03-04T06:16:47.094082Z",
     "shell.execute_reply": "2021-03-04T06:16:47.094602Z"
    },
    "papermill": {
     "duration": 0.030301,
     "end_time": "2021-03-04T06:16:47.094777",
     "exception": false,
     "start_time": "2021-03-04T06:16:47.064476",
     "status": "completed"
    },
    "tags": []
   },
   "outputs": [],
   "source": [
    "del android[10472]\n",
    "print(len(android))"
   ]
  },
  {
   "cell_type": "markdown",
   "metadata": {
    "papermill": {
     "duration": 0.015856,
     "end_time": "2021-03-04T06:16:47.127608",
     "exception": false,
     "start_time": "2021-03-04T06:16:47.111752",
     "status": "completed"
    },
    "tags": []
   },
   "source": [
    "# Removing Duplicate Entries\n",
    "Part One\n",
    "\n",
    "If we explore the Google Play data set long enough, we'll find that some apps have more than one entry. For instance, the application Instagram has four entries:"
   ]
  },
  {
   "cell_type": "code",
   "execution_count": null,
   "metadata": {
    "execution": {
     "iopub.execute_input": "2021-03-04T06:16:47.163022Z",
     "iopub.status.busy": "2021-03-04T06:16:47.162422Z",
     "iopub.status.idle": "2021-03-04T06:16:47.167100Z",
     "shell.execute_reply": "2021-03-04T06:16:47.167606Z"
    },
    "papermill": {
     "duration": 0.023957,
     "end_time": "2021-03-04T06:16:47.167776",
     "exception": false,
     "start_time": "2021-03-04T06:16:47.143819",
     "status": "completed"
    },
    "tags": []
   },
   "outputs": [],
   "source": [
    "def duplicate_entries(dataset,position):\n",
    "    duplicate=[]\n",
    "    unique=[]\n",
    "    for item in dataset:\n",
    "        name=item[position]\n",
    "        if name in unique:\n",
    "            duplicate.append(name)\n",
    "        else:\n",
    "            unique.append(name)\n",
    "        \n",
    "    print('No. of duplicate apps: ',len(duplicate))\n",
    "    print('\\n')\n",
    "    print('Example of duplicate apps: ',duplicate[0:30])"
   ]
  },
  {
   "cell_type": "code",
   "execution_count": null,
   "metadata": {
    "execution": {
     "iopub.execute_input": "2021-03-04T06:16:47.203882Z",
     "iopub.status.busy": "2021-03-04T06:16:47.203233Z",
     "iopub.status.idle": "2021-03-04T06:16:47.214019Z",
     "shell.execute_reply": "2021-03-04T06:16:47.214490Z"
    },
    "papermill": {
     "duration": 0.030249,
     "end_time": "2021-03-04T06:16:47.214671",
     "exception": false,
     "start_time": "2021-03-04T06:16:47.184422",
     "status": "completed"
    },
    "tags": []
   },
   "outputs": [],
   "source": [
    "duplicate_entries(android,0)"
   ]
  },
  {
   "cell_type": "code",
   "execution_count": null,
   "metadata": {
    "execution": {
     "iopub.execute_input": "2021-03-04T06:16:47.251531Z",
     "iopub.status.busy": "2021-03-04T06:16:47.250959Z",
     "iopub.status.idle": "2021-03-04T06:16:47.262972Z",
     "shell.execute_reply": "2021-03-04T06:16:47.263550Z"
    },
    "papermill": {
     "duration": 0.031996,
     "end_time": "2021-03-04T06:16:47.263725",
     "exception": false,
     "start_time": "2021-03-04T06:16:47.231729",
     "status": "completed"
    },
    "tags": []
   },
   "outputs": [],
   "source": [
    "reviews_max={}\n",
    "for item in android:\n",
    "    name=item[0]\n",
    "    n_reviews=float(item[3])\n",
    "    if name in reviews_max and reviews_max[name] < n_reviews:\n",
    "        reviews_max[name]=n_reviews\n",
    "    elif name not in reviews_max:\n",
    "        reviews_max[name]=n_reviews\n",
    "\n",
    "print('length of the dictionary: ',len(reviews_max))"
   ]
  },
  {
   "cell_type": "code",
   "execution_count": null,
   "metadata": {
    "execution": {
     "iopub.execute_input": "2021-03-04T06:16:47.300972Z",
     "iopub.status.busy": "2021-03-04T06:16:47.300388Z",
     "iopub.status.idle": "2021-03-04T06:16:47.312237Z",
     "shell.execute_reply": "2021-03-04T06:16:47.312733Z"
    },
    "papermill": {
     "duration": 0.031923,
     "end_time": "2021-03-04T06:16:47.312941",
     "exception": false,
     "start_time": "2021-03-04T06:16:47.281018",
     "status": "completed"
    },
    "tags": []
   },
   "outputs": [],
   "source": [
    "android_clean=[]\n",
    "already_added=[]\n",
    "for item in android:\n",
    "    name=item[0]\n",
    "    n_reviews=float(item[3])\n",
    "    if n_reviews == reviews_max[name] and name not in already_added:\n",
    "        android_clean.append(item)\n",
    "        already_added.append(name) "
   ]
  },
  {
   "cell_type": "code",
   "execution_count": null,
   "metadata": {
    "execution": {
     "iopub.execute_input": "2021-03-04T06:16:47.351876Z",
     "iopub.status.busy": "2021-03-04T06:16:47.351311Z",
     "iopub.status.idle": "2021-03-04T06:16:47.368936Z",
     "shell.execute_reply": "2021-03-04T06:16:47.369435Z"
    },
    "papermill": {
     "duration": 0.038235,
     "end_time": "2021-03-04T06:16:47.369612",
     "exception": false,
     "start_time": "2021-03-04T06:16:47.331377",
     "status": "completed"
    },
    "scrolled": true,
    "tags": []
   },
   "outputs": [],
   "source": [
    "explore_data(android_clean,0,5,True)"
   ]
  },
  {
   "cell_type": "markdown",
   "metadata": {
    "papermill": {
     "duration": 0.018252,
     "end_time": "2021-03-04T06:16:47.406152",
     "exception": false,
     "start_time": "2021-03-04T06:16:47.387900",
     "status": "completed"
    },
    "tags": []
   },
   "source": [
    "# Removing Non-English Apps\n",
    "Part One\n",
    "\n",
    "If you explore the data sets enough, you'll notice the names of some of the apps suggest they are not directed toward an English-speaking audience. Below, we see a couple of examples from both data sets"
   ]
  },
  {
   "cell_type": "code",
   "execution_count": null,
   "metadata": {
    "execution": {
     "iopub.execute_input": "2021-03-04T06:16:47.446385Z",
     "iopub.status.busy": "2021-03-04T06:16:47.445477Z",
     "iopub.status.idle": "2021-03-04T06:16:47.453183Z",
     "shell.execute_reply": "2021-03-04T06:16:47.452565Z"
    },
    "papermill": {
     "duration": 0.028793,
     "end_time": "2021-03-04T06:16:47.453333",
     "exception": false,
     "start_time": "2021-03-04T06:16:47.424540",
     "status": "completed"
    },
    "tags": []
   },
   "outputs": [],
   "source": [
    "def function(string):\n",
    "    for item in string:\n",
    "        if ord(item)>127:\n",
    "            return False\n",
    "        else:\n",
    "            return True\n",
    "print(function('Clash of Clans'))\n",
    "print(function('爱奇艺PPS -《欢乐颂2》电视剧热播'))\n",
    "print(function('Docs To Go™ Free Office Suite'))\n",
    "print(function('Instachat 😜'))"
   ]
  },
  {
   "cell_type": "code",
   "execution_count": null,
   "metadata": {
    "execution": {
     "iopub.execute_input": "2021-03-04T06:16:47.498265Z",
     "iopub.status.busy": "2021-03-04T06:16:47.497618Z",
     "iopub.status.idle": "2021-03-04T06:16:47.500366Z",
     "shell.execute_reply": "2021-03-04T06:16:47.500853Z"
    },
    "papermill": {
     "duration": 0.028607,
     "end_time": "2021-03-04T06:16:47.501042",
     "exception": false,
     "start_time": "2021-03-04T06:16:47.472435",
     "status": "completed"
    },
    "tags": []
   },
   "outputs": [],
   "source": [
    "def function(string):\n",
    "    non_ascii = 0\n",
    "    for item in string:\n",
    "        if ord(item)>127:\n",
    "            non_ascii +=1\n",
    "    if non_ascii>3:\n",
    "        return False\n",
    "    else:\n",
    "        return True\n",
    "        \n",
    "print(function('Docs To Go™ Free Office Suite'))\n",
    "print(function('爱奇艺PPS -《欢乐颂2》电视剧热播'))\n",
    "print(function('Docs To Go™ Free Office Suite'))\n",
    "print(function('Instachat 😜'))"
   ]
  },
  {
   "cell_type": "code",
   "execution_count": null,
   "metadata": {
    "execution": {
     "iopub.execute_input": "2021-03-04T06:16:47.543878Z",
     "iopub.status.busy": "2021-03-04T06:16:47.543242Z",
     "iopub.status.idle": "2021-03-04T06:16:47.556035Z",
     "shell.execute_reply": "2021-03-04T06:16:47.556526Z"
    },
    "papermill": {
     "duration": 0.035834,
     "end_time": "2021-03-04T06:16:47.556704",
     "exception": false,
     "start_time": "2021-03-04T06:16:47.520870",
     "status": "completed"
    },
    "tags": []
   },
   "outputs": [],
   "source": [
    "android_english = []\n",
    "ios_english = []\n",
    "\n",
    "for app in android_clean:\n",
    "    name = app[0]\n",
    "    if function(name):\n",
    "        android_english.append(app)\n",
    "        \n",
    "for app in ios:\n",
    "    name = app[1]\n",
    "    if function(name):\n",
    "        ios_english.append(app)\n",
    "        \n",
    "explore_data(android_english, 0, 3, True)\n",
    "print('\\n')\n",
    "explore_data(ios_english, 0, 3, True)"
   ]
  },
  {
   "cell_type": "markdown",
   "metadata": {
    "papermill": {
     "duration": 0.019581,
     "end_time": "2021-03-04T06:16:47.596324",
     "exception": false,
     "start_time": "2021-03-04T06:16:47.576743",
     "status": "completed"
    },
    "tags": []
   },
   "source": [
    "# Isolating the Free Apps\n",
    "\n",
    "As we mentioned in the introduction, we only build apps that are free to download and install, and our main source of revenue consists of in-app ads. Our data sets contain both free and non-free apps, and we'll need to isolate only the free apps for our analysis. Below, we isolate the free apps for both our data sets."
   ]
  },
  {
   "cell_type": "code",
   "execution_count": null,
   "metadata": {
    "execution": {
     "iopub.execute_input": "2021-03-04T06:16:47.639156Z",
     "iopub.status.busy": "2021-03-04T06:16:47.638507Z",
     "iopub.status.idle": "2021-03-04T06:16:47.645009Z",
     "shell.execute_reply": "2021-03-04T06:16:47.645851Z"
    },
    "papermill": {
     "duration": 0.030003,
     "end_time": "2021-03-04T06:16:47.646126",
     "exception": false,
     "start_time": "2021-03-04T06:16:47.616123",
     "status": "completed"
    },
    "tags": []
   },
   "outputs": [],
   "source": [
    "android_final = []\n",
    "ios_final = []\n",
    "\n",
    "for app in android_english:\n",
    "    price = app[7]\n",
    "    if price == '0':\n",
    "        android_final.append(app)\n",
    "        \n",
    "for app in ios_english:\n",
    "    price = app[4]\n",
    "    if price == '0.0':\n",
    "        ios_final.append(app)\n",
    "        \n",
    "print(len(android_final))\n",
    "print(len(ios_final))"
   ]
  },
  {
   "cell_type": "markdown",
   "metadata": {
    "papermill": {
     "duration": 0.019716,
     "end_time": "2021-03-04T06:16:47.687091",
     "exception": false,
     "start_time": "2021-03-04T06:16:47.667375",
     "status": "completed"
    },
    "tags": []
   },
   "source": [
    "###                        Why do all this?\n",
    "\n",
    "The answer to that question is quite simple. The aim here is to determine the kinds of apps that are lilkely to attract more users because our revenue is highly influenced by the number of people using our apps.\n",
    "\n",
    "To minimize risks and overhead, our validation strategy for an app idea is comprised of three steps:\n",
    "\n",
    "Build a minimal Android version of the app, and add it to Google Play.\n",
    "If the app has a good response from users, we develop it further.\n",
    "If the app is profitable after  six months, we build an iOS version of the app and add it to the App Store.\n",
    "Because our end goal is to add the app on both Google Play and the App Store, we need to find app profiles that are successful on both markets. For instance, a profile that works well for both markets might be a productivity app that makes use of gamification.\n",
    "\n",
    "The frequency table can be built using the prime_genre column of the App Store data set, and the Genres and Category columns of the Google Play data set."
   ]
  },
  {
   "cell_type": "code",
   "execution_count": null,
   "metadata": {
    "execution": {
     "iopub.execute_input": "2021-03-04T06:16:47.730167Z",
     "iopub.status.busy": "2021-03-04T06:16:47.729598Z",
     "iopub.status.idle": "2021-03-04T06:16:47.736031Z",
     "shell.execute_reply": "2021-03-04T06:16:47.736631Z"
    },
    "papermill": {
     "duration": 0.029425,
     "end_time": "2021-03-04T06:16:47.736805",
     "exception": false,
     "start_time": "2021-03-04T06:16:47.707380",
     "status": "completed"
    },
    "tags": []
   },
   "outputs": [],
   "source": [
    "def freq_table(dataset, index):\n",
    "    table = {}\n",
    "    total = 0\n",
    "    \n",
    "    for row in dataset:\n",
    "        total += 1\n",
    "        value = row[index]\n",
    "        if value in table:\n",
    "            table[value] += 1\n",
    "        else:\n",
    "            table[value] = 1\n",
    "    \n",
    "    table_percentages = {}\n",
    "    for key in table:\n",
    "        percentage = (table[key] / total) * 100\n",
    "        table_percentages[key] = percentage \n",
    "    \n",
    "    return table_percentages\n",
    "\n",
    "\n",
    "def display_table(dataset, index):\n",
    "    table = freq_table(dataset, index)\n",
    "    table_display = []\n",
    "    for key in table:\n",
    "        key_val_as_tuple = (table[key], key)\n",
    "        table_display.append(key_val_as_tuple)\n",
    "        \n",
    "    table_sorted = sorted(table_display, reverse = True)\n",
    "    for entry in table_sorted:\n",
    "        print(entry[1], ':', entry[0])"
   ]
  },
  {
   "cell_type": "code",
   "execution_count": null,
   "metadata": {
    "execution": {
     "iopub.execute_input": "2021-03-04T06:16:47.779622Z",
     "iopub.status.busy": "2021-03-04T06:16:47.778996Z",
     "iopub.status.idle": "2021-03-04T06:16:47.782381Z",
     "shell.execute_reply": "2021-03-04T06:16:47.782853Z"
    },
    "papermill": {
     "duration": 0.026344,
     "end_time": "2021-03-04T06:16:47.783012",
     "exception": false,
     "start_time": "2021-03-04T06:16:47.756668",
     "status": "completed"
    },
    "tags": []
   },
   "outputs": [],
   "source": [
    "display_table(android_english,-4)"
   ]
  },
  {
   "cell_type": "code",
   "execution_count": null,
   "metadata": {
    "execution": {
     "iopub.execute_input": "2021-03-04T06:16:47.828488Z",
     "iopub.status.busy": "2021-03-04T06:16:47.827866Z",
     "iopub.status.idle": "2021-03-04T06:16:47.838674Z",
     "shell.execute_reply": "2021-03-04T06:16:47.839084Z"
    },
    "papermill": {
     "duration": 0.034068,
     "end_time": "2021-03-04T06:16:47.839250",
     "exception": false,
     "start_time": "2021-03-04T06:16:47.805182",
     "status": "completed"
    },
    "tags": []
   },
   "outputs": [],
   "source": [
    "display_table(ios,-5)"
   ]
  },
  {
   "cell_type": "markdown",
   "metadata": {
    "papermill": {
     "duration": 0.022173,
     "end_time": "2021-03-04T06:16:47.882048",
     "exception": false,
     "start_time": "2021-03-04T06:16:47.859875",
     "status": "completed"
    },
    "tags": []
   },
   "source": [
    "# Most Popular Apps by Genre on the App Store\n",
    "\n",
    "One way to find out what genres are the most popular (have the most users) is to calculate the average number of installs for each app genre. For the Google Play data set, we can find this information in the Installs column, but for the App Store data set this information is missing. As a workaround, we'll take the total number of user ratings as a proxy, which we can find in the rating_count_tot app.\n",
    "\n",
    "Below, we calculate the average number of user ratings per app genre on the App Store:"
   ]
  },
  {
   "cell_type": "code",
   "execution_count": null,
   "metadata": {
    "execution": {
     "iopub.execute_input": "2021-03-04T06:16:47.926532Z",
     "iopub.status.busy": "2021-03-04T06:16:47.925944Z",
     "iopub.status.idle": "2021-03-04T06:16:47.930503Z",
     "shell.execute_reply": "2021-03-04T06:16:47.930982Z"
    },
    "papermill": {
     "duration": 0.028304,
     "end_time": "2021-03-04T06:16:47.931142",
     "exception": false,
     "start_time": "2021-03-04T06:16:47.902838",
     "status": "completed"
    },
    "tags": []
   },
   "outputs": [],
   "source": [
    "genres_ios = freq_table(ios_final, -5)\n",
    "\n",
    "for genre in genres_ios:\n",
    "    total = 0\n",
    "    len_genre = 0\n",
    "    for app in ios_final:\n",
    "        genre_app = app[-5]\n",
    "        if genre_app == genre:            \n",
    "            n_ratings = float(app[5])\n",
    "            total += n_ratings\n",
    "            len_genre += 1\n",
    "    avg_n_ratings = total / len_genre\n",
    "    print(genre, ':', avg_n_ratings)"
   ]
  },
  {
   "cell_type": "markdown",
   "metadata": {
    "papermill": {
     "duration": 0.020458,
     "end_time": "2021-03-04T06:16:47.972366",
     "exception": false,
     "start_time": "2021-03-04T06:16:47.951908",
     "status": "completed"
    },
    "tags": []
   },
   "source": [
    "# Most Popular Apps by Genre on Google Play\n",
    "\n",
    "For the Google Play market, we actually have data about the number of installs, so we should be able to get a clearer picture about genre popularity. However, the install numbers don't seem precise enough — we can see that most values are open-ended (100+, 1,000+, 5,000+, etc.):"
   ]
  },
  {
   "cell_type": "code",
   "execution_count": null,
   "metadata": {
    "execution": {
     "iopub.execute_input": "2021-03-04T06:16:48.016690Z",
     "iopub.status.busy": "2021-03-04T06:16:48.016101Z",
     "iopub.status.idle": "2021-03-04T06:16:48.020913Z",
     "shell.execute_reply": "2021-03-04T06:16:48.020332Z"
    },
    "papermill": {
     "duration": 0.028147,
     "end_time": "2021-03-04T06:16:48.021061",
     "exception": false,
     "start_time": "2021-03-04T06:16:47.992914",
     "status": "completed"
    },
    "tags": []
   },
   "outputs": [],
   "source": [
    "display_table(android_final, 5) # the Installs columns"
   ]
  },
  {
   "cell_type": "code",
   "execution_count": null,
   "metadata": {
    "execution": {
     "iopub.execute_input": "2021-03-04T06:16:48.070237Z",
     "iopub.status.busy": "2021-03-04T06:16:48.069478Z",
     "iopub.status.idle": "2021-03-04T06:16:48.071911Z",
     "shell.execute_reply": "2021-03-04T06:16:48.072300Z"
    },
    "papermill": {
     "duration": 0.03017,
     "end_time": "2021-03-04T06:16:48.072489",
     "exception": false,
     "start_time": "2021-03-04T06:16:48.042319",
     "status": "completed"
    },
    "tags": []
   },
   "outputs": [],
   "source": [
    "categories_android = freq_table(android_final, 1)\n",
    "\n",
    "for category in categories_android:\n",
    "    total = 0\n",
    "    len_category = 0\n",
    "    for app in android_final:\n",
    "        category_app = app[1]\n",
    "        if category_app == category:            \n",
    "            n_installs = app[5]\n",
    "            n_installs = n_installs.replace(',', '')\n",
    "            n_installs = n_installs.replace('+', '')\n",
    "            total += float(n_installs)\n",
    "            len_category += 1\n",
    "    avg_n_installs = total / len_category\n",
    "    print(category, ':', avg_n_installs)"
   ]
  },
  {
   "cell_type": "code",
   "execution_count": null,
   "metadata": {
    "execution": {
     "iopub.execute_input": "2021-03-04T06:16:48.119302Z",
     "iopub.status.busy": "2021-03-04T06:16:48.118708Z",
     "iopub.status.idle": "2021-03-04T06:16:48.121598Z",
     "shell.execute_reply": "2021-03-04T06:16:48.121095Z"
    },
    "papermill": {
     "duration": 0.028447,
     "end_time": "2021-03-04T06:16:48.121734",
     "exception": false,
     "start_time": "2021-03-04T06:16:48.093287",
     "status": "completed"
    },
    "tags": []
   },
   "outputs": [],
   "source": [
    "for app in android_final:\n",
    "    if app[1] == 'COMMUNICATION' and (app[5] == '1,000,000,000+'\n",
    "                                      or app[5] == '500,000,000+'\n",
    "                                      or app[5] == '100,000,000+'):\n",
    "        print(app[0], ':', app[5])"
   ]
  },
  {
   "cell_type": "code",
   "execution_count": null,
   "metadata": {
    "execution": {
     "iopub.execute_input": "2021-03-04T06:16:48.175860Z",
     "iopub.status.busy": "2021-03-04T06:16:48.175216Z",
     "iopub.status.idle": "2021-03-04T06:16:48.178221Z",
     "shell.execute_reply": "2021-03-04T06:16:48.178818Z"
    },
    "papermill": {
     "duration": 0.036305,
     "end_time": "2021-03-04T06:16:48.179006",
     "exception": false,
     "start_time": "2021-03-04T06:16:48.142701",
     "status": "completed"
    },
    "tags": []
   },
   "outputs": [],
   "source": [
    "under_100_m = []\n",
    "\n",
    "for app in android_final:\n",
    "    n_installs = app[5]\n",
    "    n_installs = n_installs.replace(',', '')\n",
    "    n_installs = n_installs.replace('+', '')\n",
    "    if (app[1] == 'COMMUNICATION') and (float(n_installs) < 100000000):\n",
    "        under_100_m.append(float(n_installs))\n",
    "        \n",
    "sum(under_100_m) / len(under_100_m)"
   ]
  },
  {
   "cell_type": "code",
   "execution_count": null,
   "metadata": {
    "execution": {
     "iopub.execute_input": "2021-03-04T06:16:48.224338Z",
     "iopub.status.busy": "2021-03-04T06:16:48.223716Z",
     "iopub.status.idle": "2021-03-04T06:16:48.227234Z",
     "shell.execute_reply": "2021-03-04T06:16:48.227686Z"
    },
    "papermill": {
     "duration": 0.027508,
     "end_time": "2021-03-04T06:16:48.227847",
     "exception": false,
     "start_time": "2021-03-04T06:16:48.200339",
     "status": "completed"
    },
    "tags": []
   },
   "outputs": [],
   "source": [
    "for app in android_final:\n",
    "    if app[1] == 'BOOKS_AND_REFERENCE':\n",
    "        print(app[0], ':', app[5])"
   ]
  },
  {
   "cell_type": "code",
   "execution_count": null,
   "metadata": {
    "papermill": {
     "duration": 0.020854,
     "end_time": "2021-03-04T06:16:48.269933",
     "exception": false,
     "start_time": "2021-03-04T06:16:48.249079",
     "status": "completed"
    },
    "tags": []
   },
   "outputs": [],
   "source": []
  }
 ],
 "metadata": {
  "kernelspec": {
   "display_name": "Python 3",
   "language": "python",
   "name": "python3"
  },
  "language_info": {
   "codemirror_mode": {
    "name": "ipython",
    "version": 3
   },
   "file_extension": ".py",
   "mimetype": "text/x-python",
   "name": "python",
   "nbconvert_exporter": "python",
   "pygments_lexer": "ipython3",
   "version": "3.8.5"
  },
  "papermill": {
   "default_parameters": {},
   "duration": 7.41927,
   "end_time": "2021-03-04T06:16:48.900094",
   "environment_variables": {},
   "exception": null,
   "input_path": "__notebook__.ipynb",
   "output_path": "__notebook__.ipynb",
   "parameters": {},
   "start_time": "2021-03-04T06:16:41.480824",
   "version": "2.2.2"
  }
 },
 "nbformat": 4,
 "nbformat_minor": 4
}
